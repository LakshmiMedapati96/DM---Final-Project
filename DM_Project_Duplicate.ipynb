{
  "nbformat": 4,
  "nbformat_minor": 0,
  "metadata": {
    "colab": {
      "provenance": [],
      "mount_file_id": "18F8qXblW1StChum2zukmzu1GLg0WACp4",
      "authorship_tag": "ABX9TyP2L5/02pwemHX1spxsnNgH",
      "include_colab_link": true
    },
    "kernelspec": {
      "name": "python3",
      "display_name": "Python 3"
    },
    "language_info": {
      "name": "python"
    },
    "accelerator": "TPU",
    "gpuClass": "standard"
  },
  "cells": [
    {
      "cell_type": "markdown",
      "metadata": {
        "id": "view-in-github",
        "colab_type": "text"
      },
      "source": [
        "<a href=\"https://colab.research.google.com/github/LakshmiMedapati96/DM-FinalProject/blob/main/DM_Project_Duplicate.ipynb\" target=\"_parent\"><img src=\"https://colab.research.google.com/assets/colab-badge.svg\" alt=\"Open In Colab\"/></a>"
      ]
    },
    {
      "cell_type": "markdown",
      "source": [
        "# Downloading the dataset"
      ],
      "metadata": {
        "id": "mev9EoT2t1C8"
      }
    },
    {
      "cell_type": "code",
      "execution_count": 3,
      "metadata": {
        "id": "rOAmAN52tDEy",
        "colab": {
          "base_uri": "https://localhost:8080/"
        },
        "outputId": "72427e47-2a34-44f6-9ed8-3702eabfd884"
      },
      "outputs": [
        {
          "output_type": "stream",
          "name": "stdout",
          "text": [
            "Looking in indexes: https://pypi.org/simple, https://us-python.pkg.dev/colab-wheels/public/simple/\n",
            "Requirement already satisfied: kaggle in /usr/local/lib/python3.10/dist-packages (1.5.13)\n",
            "Requirement already satisfied: tqdm in /usr/local/lib/python3.10/dist-packages (from kaggle) (4.65.0)\n",
            "Requirement already satisfied: urllib3 in /usr/local/lib/python3.10/dist-packages (from kaggle) (1.26.15)\n",
            "Requirement already satisfied: requests in /usr/local/lib/python3.10/dist-packages (from kaggle) (2.27.1)\n",
            "Requirement already satisfied: six>=1.10 in /usr/local/lib/python3.10/dist-packages (from kaggle) (1.16.0)\n",
            "Requirement already satisfied: python-dateutil in /usr/local/lib/python3.10/dist-packages (from kaggle) (2.8.2)\n",
            "Requirement already satisfied: python-slugify in /usr/local/lib/python3.10/dist-packages (from kaggle) (8.0.1)\n",
            "Requirement already satisfied: certifi in /usr/local/lib/python3.10/dist-packages (from kaggle) (2022.12.7)\n",
            "Requirement already satisfied: text-unidecode>=1.3 in /usr/local/lib/python3.10/dist-packages (from python-slugify->kaggle) (1.3)\n",
            "Requirement already satisfied: charset-normalizer~=2.0.0 in /usr/local/lib/python3.10/dist-packages (from requests->kaggle) (2.0.12)\n",
            "Requirement already satisfied: idna<4,>=2.5 in /usr/local/lib/python3.10/dist-packages (from requests->kaggle) (3.4)\n"
          ]
        }
      ],
      "source": [
        "! pip install kaggle"
      ]
    },
    {
      "cell_type": "code",
      "source": [
        "! mkdir ~/.kaggle"
      ],
      "metadata": {
        "id": "qHnDZaa3tc19"
      },
      "execution_count": 4,
      "outputs": []
    },
    {
      "cell_type": "code",
      "source": [
        "!cp /content/drive/MyDrive/kaggle.json ~/.kaggle/kaggle.json"
      ],
      "metadata": {
        "id": "K9EFrJhdtgsm"
      },
      "execution_count": 5,
      "outputs": []
    },
    {
      "cell_type": "code",
      "source": [
        "! kaggle datasets download tushar5harma/topredditcomments"
      ],
      "metadata": {
        "colab": {
          "base_uri": "https://localhost:8080/"
        },
        "id": "i47h1qeMtmpi",
        "outputId": "9d159cb8-aeba-4c58-927a-08b91103627c"
      },
      "execution_count": 6,
      "outputs": [
        {
          "output_type": "stream",
          "name": "stdout",
          "text": [
            "Downloading topredditcomments.zip to /content\n",
            " 41% 9.00M/22.1M [00:00<00:00, 71.9MB/s]\n",
            "100% 22.1M/22.1M [00:00<00:00, 103MB/s] \n"
          ]
        }
      ]
    },
    {
      "cell_type": "code",
      "source": [
        "! unzip topredditcomments.zip"
      ],
      "metadata": {
        "colab": {
          "base_uri": "https://localhost:8080/"
        },
        "id": "MIBBoOLKtvDm",
        "outputId": "faa81b43-4449-4e24-e1ee-e583ba25c200"
      },
      "execution_count": 7,
      "outputs": [
        {
          "output_type": "stream",
          "name": "stdout",
          "text": [
            "Archive:  topredditcomments.zip\n",
            "  inflating: Top_Posts.csv           \n",
            "  inflating: Top_Posts_Comments.csv  \n"
          ]
        }
      ]
    },
    {
      "cell_type": "markdown",
      "source": [
        "# The Coding begins..."
      ],
      "metadata": {
        "id": "5__FdaDPt8fY"
      }
    },
    {
      "cell_type": "markdown",
      "source": [
        "# Importing Libraries, Loading and Merging the data"
      ],
      "metadata": {
        "id": "VRiN_E-F6VEO"
      }
    },
    {
      "cell_type": "code",
      "execution_count": 8,
      "metadata": {
        "id": "D_ftixZkE00f"
      },
      "outputs": [],
      "source": [
        "import pandas as pd\n",
        "\n",
        "from sklearn.feature_extraction.text import CountVectorizer\n",
        "from nltk.stem import WordNetLemmatizer\n",
        "from sklearn.feature_extraction.text import TfidfVectorizer \n",
        "\n",
        "import string\n",
        "import re\n",
        "\n",
        "from sklearn.naive_bayes import MultinomialNB\n",
        "from sklearn.naive_bayes import GaussianNB\n",
        "from sklearn.svm import LinearSVC\n",
        "\n",
        "from sklearn.metrics import classification_report\n",
        "\n",
        "\n",
        "from sklearn.metrics import accuracy_score\n",
        "import sklearn.metrics as metrics\n",
        "from sklearn.model_selection import train_test_split\n",
        "from sklearn.metrics import confusion_matrix \n",
        "from sklearn.metrics import classification_report\n",
        "from sklearn import metrics"
      ]
    },
    {
      "cell_type": "code",
      "source": [
        "# Load the dataset\n",
        "posts = pd.read_csv(\"Top_Posts.csv\")\n",
        "comments = pd.read_csv(\"Top_Posts_Comments.csv\")\n",
        "\n",
        "print(\"posts\", posts.shape)\n",
        "print(\"comments\", comments.shape)"
      ],
      "metadata": {
        "id": "LOU3nNECHlmc",
        "colab": {
          "base_uri": "https://localhost:8080/"
        },
        "outputId": "5807ab60-95e5-4c59-849d-6423653686b7"
      },
      "execution_count": 9,
      "outputs": [
        {
          "output_type": "stream",
          "name": "stdout",
          "text": [
            "posts (2987, 10)\n",
            "comments (223174, 2)\n"
          ]
        }
      ]
    },
    {
      "cell_type": "code",
      "source": [
        "posts.head()"
      ],
      "metadata": {
        "colab": {
          "base_uri": "https://localhost:8080/",
          "height": 0
        },
        "id": "Q4Z19_jQIgXZ",
        "outputId": "3fe1e0ef-1841-41f1-a075-8c771bb14495"
      },
      "execution_count": 10,
      "outputs": [
        {
          "output_type": "execute_result",
          "data": {
            "text/plain": [
              "  post_id                                         post_title        subreddit  \\\n",
              "0  gh1dj9  [Project] From books to presentations in 10s w...  MachineLearning   \n",
              "1  kuc6tz  [D] A Demo from 1993 of 32-year-old Yann LeCun...  MachineLearning   \n",
              "2  g7nfvb  [R] First Order Motion Model applied to animat...  MachineLearning   \n",
              "3  lui92h  [N] AI can turn old photos into moving Images ...  MachineLearning   \n",
              "4  ohxnts  [D] This AI reveals how much time politicians ...  MachineLearning   \n",
              "\n",
              "                              post_url  flair_text  score  comments  \\\n",
              "0      https://v.redd.it/v492uoheuxx41     Project   7798       186   \n",
              "1      https://v.redd.it/25nxi9ojfha61  Discussion   5851       133   \n",
              "2      https://v.redd.it/rlmmjm1q5wu41    Research   4761       111   \n",
              "3      https://v.redd.it/ikd5gjlbi8k61        News   4688       230   \n",
              "4  https://i.redd.it/34sgziebfia71.jpg  Discussion   4568       228   \n",
              "\n",
              "   upvote_ratio            date-time  year  \n",
              "0          0.99  2020-05-10 13:19:54  2020  \n",
              "1          0.98  2021-01-10 10:30:36  2021  \n",
              "2          0.97  2020-04-25 04:27:23  2020  \n",
              "3          0.97  2021-02-28 15:12:28  2021  \n",
              "4          0.96  2021-07-11 04:18:59  2021  "
            ],
            "text/html": [
              "\n",
              "  <div id=\"df-4b7c7c9b-78e9-4e9a-a816-17accb129a54\">\n",
              "    <div class=\"colab-df-container\">\n",
              "      <div>\n",
              "<style scoped>\n",
              "    .dataframe tbody tr th:only-of-type {\n",
              "        vertical-align: middle;\n",
              "    }\n",
              "\n",
              "    .dataframe tbody tr th {\n",
              "        vertical-align: top;\n",
              "    }\n",
              "\n",
              "    .dataframe thead th {\n",
              "        text-align: right;\n",
              "    }\n",
              "</style>\n",
              "<table border=\"1\" class=\"dataframe\">\n",
              "  <thead>\n",
              "    <tr style=\"text-align: right;\">\n",
              "      <th></th>\n",
              "      <th>post_id</th>\n",
              "      <th>post_title</th>\n",
              "      <th>subreddit</th>\n",
              "      <th>post_url</th>\n",
              "      <th>flair_text</th>\n",
              "      <th>score</th>\n",
              "      <th>comments</th>\n",
              "      <th>upvote_ratio</th>\n",
              "      <th>date-time</th>\n",
              "      <th>year</th>\n",
              "    </tr>\n",
              "  </thead>\n",
              "  <tbody>\n",
              "    <tr>\n",
              "      <th>0</th>\n",
              "      <td>gh1dj9</td>\n",
              "      <td>[Project] From books to presentations in 10s w...</td>\n",
              "      <td>MachineLearning</td>\n",
              "      <td>https://v.redd.it/v492uoheuxx41</td>\n",
              "      <td>Project</td>\n",
              "      <td>7798</td>\n",
              "      <td>186</td>\n",
              "      <td>0.99</td>\n",
              "      <td>2020-05-10 13:19:54</td>\n",
              "      <td>2020</td>\n",
              "    </tr>\n",
              "    <tr>\n",
              "      <th>1</th>\n",
              "      <td>kuc6tz</td>\n",
              "      <td>[D] A Demo from 1993 of 32-year-old Yann LeCun...</td>\n",
              "      <td>MachineLearning</td>\n",
              "      <td>https://v.redd.it/25nxi9ojfha61</td>\n",
              "      <td>Discussion</td>\n",
              "      <td>5851</td>\n",
              "      <td>133</td>\n",
              "      <td>0.98</td>\n",
              "      <td>2021-01-10 10:30:36</td>\n",
              "      <td>2021</td>\n",
              "    </tr>\n",
              "    <tr>\n",
              "      <th>2</th>\n",
              "      <td>g7nfvb</td>\n",
              "      <td>[R] First Order Motion Model applied to animat...</td>\n",
              "      <td>MachineLearning</td>\n",
              "      <td>https://v.redd.it/rlmmjm1q5wu41</td>\n",
              "      <td>Research</td>\n",
              "      <td>4761</td>\n",
              "      <td>111</td>\n",
              "      <td>0.97</td>\n",
              "      <td>2020-04-25 04:27:23</td>\n",
              "      <td>2020</td>\n",
              "    </tr>\n",
              "    <tr>\n",
              "      <th>3</th>\n",
              "      <td>lui92h</td>\n",
              "      <td>[N] AI can turn old photos into moving Images ...</td>\n",
              "      <td>MachineLearning</td>\n",
              "      <td>https://v.redd.it/ikd5gjlbi8k61</td>\n",
              "      <td>News</td>\n",
              "      <td>4688</td>\n",
              "      <td>230</td>\n",
              "      <td>0.97</td>\n",
              "      <td>2021-02-28 15:12:28</td>\n",
              "      <td>2021</td>\n",
              "    </tr>\n",
              "    <tr>\n",
              "      <th>4</th>\n",
              "      <td>ohxnts</td>\n",
              "      <td>[D] This AI reveals how much time politicians ...</td>\n",
              "      <td>MachineLearning</td>\n",
              "      <td>https://i.redd.it/34sgziebfia71.jpg</td>\n",
              "      <td>Discussion</td>\n",
              "      <td>4568</td>\n",
              "      <td>228</td>\n",
              "      <td>0.96</td>\n",
              "      <td>2021-07-11 04:18:59</td>\n",
              "      <td>2021</td>\n",
              "    </tr>\n",
              "  </tbody>\n",
              "</table>\n",
              "</div>\n",
              "      <button class=\"colab-df-convert\" onclick=\"convertToInteractive('df-4b7c7c9b-78e9-4e9a-a816-17accb129a54')\"\n",
              "              title=\"Convert this dataframe to an interactive table.\"\n",
              "              style=\"display:none;\">\n",
              "        \n",
              "  <svg xmlns=\"http://www.w3.org/2000/svg\" height=\"24px\"viewBox=\"0 0 24 24\"\n",
              "       width=\"24px\">\n",
              "    <path d=\"M0 0h24v24H0V0z\" fill=\"none\"/>\n",
              "    <path d=\"M18.56 5.44l.94 2.06.94-2.06 2.06-.94-2.06-.94-.94-2.06-.94 2.06-2.06.94zm-11 1L8.5 8.5l.94-2.06 2.06-.94-2.06-.94L8.5 2.5l-.94 2.06-2.06.94zm10 10l.94 2.06.94-2.06 2.06-.94-2.06-.94-.94-2.06-.94 2.06-2.06.94z\"/><path d=\"M17.41 7.96l-1.37-1.37c-.4-.4-.92-.59-1.43-.59-.52 0-1.04.2-1.43.59L10.3 9.45l-7.72 7.72c-.78.78-.78 2.05 0 2.83L4 21.41c.39.39.9.59 1.41.59.51 0 1.02-.2 1.41-.59l7.78-7.78 2.81-2.81c.8-.78.8-2.07 0-2.86zM5.41 20L4 18.59l7.72-7.72 1.47 1.35L5.41 20z\"/>\n",
              "  </svg>\n",
              "      </button>\n",
              "      \n",
              "  <style>\n",
              "    .colab-df-container {\n",
              "      display:flex;\n",
              "      flex-wrap:wrap;\n",
              "      gap: 12px;\n",
              "    }\n",
              "\n",
              "    .colab-df-convert {\n",
              "      background-color: #E8F0FE;\n",
              "      border: none;\n",
              "      border-radius: 50%;\n",
              "      cursor: pointer;\n",
              "      display: none;\n",
              "      fill: #1967D2;\n",
              "      height: 32px;\n",
              "      padding: 0 0 0 0;\n",
              "      width: 32px;\n",
              "    }\n",
              "\n",
              "    .colab-df-convert:hover {\n",
              "      background-color: #E2EBFA;\n",
              "      box-shadow: 0px 1px 2px rgba(60, 64, 67, 0.3), 0px 1px 3px 1px rgba(60, 64, 67, 0.15);\n",
              "      fill: #174EA6;\n",
              "    }\n",
              "\n",
              "    [theme=dark] .colab-df-convert {\n",
              "      background-color: #3B4455;\n",
              "      fill: #D2E3FC;\n",
              "    }\n",
              "\n",
              "    [theme=dark] .colab-df-convert:hover {\n",
              "      background-color: #434B5C;\n",
              "      box-shadow: 0px 1px 3px 1px rgba(0, 0, 0, 0.15);\n",
              "      filter: drop-shadow(0px 1px 2px rgba(0, 0, 0, 0.3));\n",
              "      fill: #FFFFFF;\n",
              "    }\n",
              "  </style>\n",
              "\n",
              "      <script>\n",
              "        const buttonEl =\n",
              "          document.querySelector('#df-4b7c7c9b-78e9-4e9a-a816-17accb129a54 button.colab-df-convert');\n",
              "        buttonEl.style.display =\n",
              "          google.colab.kernel.accessAllowed ? 'block' : 'none';\n",
              "\n",
              "        async function convertToInteractive(key) {\n",
              "          const element = document.querySelector('#df-4b7c7c9b-78e9-4e9a-a816-17accb129a54');\n",
              "          const dataTable =\n",
              "            await google.colab.kernel.invokeFunction('convertToInteractive',\n",
              "                                                     [key], {});\n",
              "          if (!dataTable) return;\n",
              "\n",
              "          const docLinkHtml = 'Like what you see? Visit the ' +\n",
              "            '<a target=\"_blank\" href=https://colab.research.google.com/notebooks/data_table.ipynb>data table notebook</a>'\n",
              "            + ' to learn more about interactive tables.';\n",
              "          element.innerHTML = '';\n",
              "          dataTable['output_type'] = 'display_data';\n",
              "          await google.colab.output.renderOutput(dataTable, element);\n",
              "          const docLink = document.createElement('div');\n",
              "          docLink.innerHTML = docLinkHtml;\n",
              "          element.appendChild(docLink);\n",
              "        }\n",
              "      </script>\n",
              "    </div>\n",
              "  </div>\n",
              "  "
            ]
          },
          "metadata": {},
          "execution_count": 10
        }
      ]
    },
    {
      "cell_type": "code",
      "source": [
        "comments.head()"
      ],
      "metadata": {
        "colab": {
          "base_uri": "https://localhost:8080/",
          "height": 0
        },
        "id": "CJJtt3S0Iz5V",
        "outputId": "816c6b06-179c-466e-eb10-b865ebc48baa"
      },
      "execution_count": 11,
      "outputs": [
        {
          "output_type": "execute_result",
          "data": {
            "text/plain": [
              "  post_id                                            comment\n",
              "0  gh1dj9  Twitter thread: [https://twitter.com/cyrildiag...\n",
              "1  gh1dj9                                       The future 🤯\n",
              "2  gh1dj9  Simple yet very useful. Thank you for sharing ...\n",
              "3  gh1dj9  Almost guaranteed, Apple will copy your idea i...\n",
              "4  gh1dj9  Ohh the nightmare of making this into a stable..."
            ],
            "text/html": [
              "\n",
              "  <div id=\"df-ace37ec8-a333-457f-a887-7f55c206460c\">\n",
              "    <div class=\"colab-df-container\">\n",
              "      <div>\n",
              "<style scoped>\n",
              "    .dataframe tbody tr th:only-of-type {\n",
              "        vertical-align: middle;\n",
              "    }\n",
              "\n",
              "    .dataframe tbody tr th {\n",
              "        vertical-align: top;\n",
              "    }\n",
              "\n",
              "    .dataframe thead th {\n",
              "        text-align: right;\n",
              "    }\n",
              "</style>\n",
              "<table border=\"1\" class=\"dataframe\">\n",
              "  <thead>\n",
              "    <tr style=\"text-align: right;\">\n",
              "      <th></th>\n",
              "      <th>post_id</th>\n",
              "      <th>comment</th>\n",
              "    </tr>\n",
              "  </thead>\n",
              "  <tbody>\n",
              "    <tr>\n",
              "      <th>0</th>\n",
              "      <td>gh1dj9</td>\n",
              "      <td>Twitter thread: [https://twitter.com/cyrildiag...</td>\n",
              "    </tr>\n",
              "    <tr>\n",
              "      <th>1</th>\n",
              "      <td>gh1dj9</td>\n",
              "      <td>The future 🤯</td>\n",
              "    </tr>\n",
              "    <tr>\n",
              "      <th>2</th>\n",
              "      <td>gh1dj9</td>\n",
              "      <td>Simple yet very useful. Thank you for sharing ...</td>\n",
              "    </tr>\n",
              "    <tr>\n",
              "      <th>3</th>\n",
              "      <td>gh1dj9</td>\n",
              "      <td>Almost guaranteed, Apple will copy your idea i...</td>\n",
              "    </tr>\n",
              "    <tr>\n",
              "      <th>4</th>\n",
              "      <td>gh1dj9</td>\n",
              "      <td>Ohh the nightmare of making this into a stable...</td>\n",
              "    </tr>\n",
              "  </tbody>\n",
              "</table>\n",
              "</div>\n",
              "      <button class=\"colab-df-convert\" onclick=\"convertToInteractive('df-ace37ec8-a333-457f-a887-7f55c206460c')\"\n",
              "              title=\"Convert this dataframe to an interactive table.\"\n",
              "              style=\"display:none;\">\n",
              "        \n",
              "  <svg xmlns=\"http://www.w3.org/2000/svg\" height=\"24px\"viewBox=\"0 0 24 24\"\n",
              "       width=\"24px\">\n",
              "    <path d=\"M0 0h24v24H0V0z\" fill=\"none\"/>\n",
              "    <path d=\"M18.56 5.44l.94 2.06.94-2.06 2.06-.94-2.06-.94-.94-2.06-.94 2.06-2.06.94zm-11 1L8.5 8.5l.94-2.06 2.06-.94-2.06-.94L8.5 2.5l-.94 2.06-2.06.94zm10 10l.94 2.06.94-2.06 2.06-.94-2.06-.94-.94-2.06-.94 2.06-2.06.94z\"/><path d=\"M17.41 7.96l-1.37-1.37c-.4-.4-.92-.59-1.43-.59-.52 0-1.04.2-1.43.59L10.3 9.45l-7.72 7.72c-.78.78-.78 2.05 0 2.83L4 21.41c.39.39.9.59 1.41.59.51 0 1.02-.2 1.41-.59l7.78-7.78 2.81-2.81c.8-.78.8-2.07 0-2.86zM5.41 20L4 18.59l7.72-7.72 1.47 1.35L5.41 20z\"/>\n",
              "  </svg>\n",
              "      </button>\n",
              "      \n",
              "  <style>\n",
              "    .colab-df-container {\n",
              "      display:flex;\n",
              "      flex-wrap:wrap;\n",
              "      gap: 12px;\n",
              "    }\n",
              "\n",
              "    .colab-df-convert {\n",
              "      background-color: #E8F0FE;\n",
              "      border: none;\n",
              "      border-radius: 50%;\n",
              "      cursor: pointer;\n",
              "      display: none;\n",
              "      fill: #1967D2;\n",
              "      height: 32px;\n",
              "      padding: 0 0 0 0;\n",
              "      width: 32px;\n",
              "    }\n",
              "\n",
              "    .colab-df-convert:hover {\n",
              "      background-color: #E2EBFA;\n",
              "      box-shadow: 0px 1px 2px rgba(60, 64, 67, 0.3), 0px 1px 3px 1px rgba(60, 64, 67, 0.15);\n",
              "      fill: #174EA6;\n",
              "    }\n",
              "\n",
              "    [theme=dark] .colab-df-convert {\n",
              "      background-color: #3B4455;\n",
              "      fill: #D2E3FC;\n",
              "    }\n",
              "\n",
              "    [theme=dark] .colab-df-convert:hover {\n",
              "      background-color: #434B5C;\n",
              "      box-shadow: 0px 1px 3px 1px rgba(0, 0, 0, 0.15);\n",
              "      filter: drop-shadow(0px 1px 2px rgba(0, 0, 0, 0.3));\n",
              "      fill: #FFFFFF;\n",
              "    }\n",
              "  </style>\n",
              "\n",
              "      <script>\n",
              "        const buttonEl =\n",
              "          document.querySelector('#df-ace37ec8-a333-457f-a887-7f55c206460c button.colab-df-convert');\n",
              "        buttonEl.style.display =\n",
              "          google.colab.kernel.accessAllowed ? 'block' : 'none';\n",
              "\n",
              "        async function convertToInteractive(key) {\n",
              "          const element = document.querySelector('#df-ace37ec8-a333-457f-a887-7f55c206460c');\n",
              "          const dataTable =\n",
              "            await google.colab.kernel.invokeFunction('convertToInteractive',\n",
              "                                                     [key], {});\n",
              "          if (!dataTable) return;\n",
              "\n",
              "          const docLinkHtml = 'Like what you see? Visit the ' +\n",
              "            '<a target=\"_blank\" href=https://colab.research.google.com/notebooks/data_table.ipynb>data table notebook</a>'\n",
              "            + ' to learn more about interactive tables.';\n",
              "          element.innerHTML = '';\n",
              "          dataTable['output_type'] = 'display_data';\n",
              "          await google.colab.output.renderOutput(dataTable, element);\n",
              "          const docLink = document.createElement('div');\n",
              "          docLink.innerHTML = docLinkHtml;\n",
              "          element.appendChild(docLink);\n",
              "        }\n",
              "      </script>\n",
              "    </div>\n",
              "  </div>\n",
              "  "
            ]
          },
          "metadata": {},
          "execution_count": 11
        }
      ]
    },
    {
      "cell_type": "code",
      "source": [
        "posts.subreddit.value_counts()"
      ],
      "metadata": {
        "colab": {
          "base_uri": "https://localhost:8080/"
        },
        "id": "xu55sPraIoiW",
        "outputId": "e00526de-4150-44e7-dd48-0e6d951c7092"
      },
      "execution_count": 12,
      "outputs": [
        {
          "output_type": "execute_result",
          "data": {
            "text/plain": [
              "artificial         999\n",
              "MachineLearning    998\n",
              "datascience        990\n",
              "Name: subreddit, dtype: int64"
            ]
          },
          "metadata": {},
          "execution_count": 12
        }
      ]
    },
    {
      "cell_type": "code",
      "source": [
        "# The code in this cell is written by me by referring to Reference [1]\n",
        "\n",
        "# Merging the 2 input files by using the common column \"post_id\" in both the files\n",
        "merged_data = pd.merge(posts, comments, on=\"post_id\", how=\"inner\")\n",
        "\n",
        "merged_data"
      ],
      "metadata": {
        "id": "cbvylUB6IAd9",
        "colab": {
          "base_uri": "https://localhost:8080/",
          "height": 0
        },
        "outputId": "51ebd6a3-15d0-4f82-eef3-b3a69ad84ae2"
      },
      "execution_count": 13,
      "outputs": [
        {
          "output_type": "execute_result",
          "data": {
            "text/plain": [
              "       post_id                                         post_title  \\\n",
              "0       gh1dj9  [Project] From books to presentations in 10s w...   \n",
              "1       gh1dj9  [Project] From books to presentations in 10s w...   \n",
              "2       gh1dj9  [Project] From books to presentations in 10s w...   \n",
              "3       gh1dj9  [Project] From books to presentations in 10s w...   \n",
              "4       gh1dj9  [Project] From books to presentations in 10s w...   \n",
              "...        ...                                                ...   \n",
              "223163  efk5n3  Tesla's Neural Net can now identify red and gr...   \n",
              "223164  efk5n3  Tesla's Neural Net can now identify red and gr...   \n",
              "223165  efk5n3  Tesla's Neural Net can now identify red and gr...   \n",
              "223166  efk5n3  Tesla's Neural Net can now identify red and gr...   \n",
              "223167  efk5n3  Tesla's Neural Net can now identify red and gr...   \n",
              "\n",
              "              subreddit                                           post_url  \\\n",
              "0       MachineLearning                    https://v.redd.it/v492uoheuxx41   \n",
              "1       MachineLearning                    https://v.redd.it/v492uoheuxx41   \n",
              "2       MachineLearning                    https://v.redd.it/v492uoheuxx41   \n",
              "3       MachineLearning                    https://v.redd.it/v492uoheuxx41   \n",
              "4       MachineLearning                    https://v.redd.it/v492uoheuxx41   \n",
              "...                 ...                                                ...   \n",
              "223163       artificial  https://www.teslarati.com/tesla-holiday-update...   \n",
              "223164       artificial  https://www.teslarati.com/tesla-holiday-update...   \n",
              "223165       artificial  https://www.teslarati.com/tesla-holiday-update...   \n",
              "223166       artificial  https://www.teslarati.com/tesla-holiday-update...   \n",
              "223167       artificial  https://www.teslarati.com/tesla-holiday-update...   \n",
              "\n",
              "       flair_text  score  comments  upvote_ratio            date-time  year  \\\n",
              "0         Project   7798       186          0.99  2020-05-10 13:19:54  2020   \n",
              "1         Project   7798       186          0.99  2020-05-10 13:19:54  2020   \n",
              "2         Project   7798       186          0.99  2020-05-10 13:19:54  2020   \n",
              "3         Project   7798       186          0.99  2020-05-10 13:19:54  2020   \n",
              "4         Project   7798       186          0.99  2020-05-10 13:19:54  2020   \n",
              "...           ...    ...       ...           ...                  ...   ...   \n",
              "223163        NaN     80        10          0.89  2019-12-25 18:50:50  2019   \n",
              "223164        NaN     80        10          0.89  2019-12-25 18:50:50  2019   \n",
              "223165        NaN     80        10          0.89  2019-12-25 18:50:50  2019   \n",
              "223166        NaN     80        10          0.89  2019-12-25 18:50:50  2019   \n",
              "223167        NaN     80        10          0.89  2019-12-25 18:50:50  2019   \n",
              "\n",
              "                                                  comment  \n",
              "0       Twitter thread: [https://twitter.com/cyrildiag...  \n",
              "1                                            The future 🤯  \n",
              "2       Simple yet very useful. Thank you for sharing ...  \n",
              "3       Almost guaranteed, Apple will copy your idea i...  \n",
              "4       Ohh the nightmare of making this into a stable...  \n",
              "...                                                   ...  \n",
              "223163  LiDAR is mot powerful sensor for the auto driv...  \n",
              "223164  So it can now idenrify traffic lights? Musk pr...  \n",
              "223165                                      Hydranet bro!  \n",
              "223166         It even shows flashing yellow turn arrows.  \n",
              "223167    Ya just saw karpathy talk on hydra and pytorch.  \n",
              "\n",
              "[223168 rows x 11 columns]"
            ],
            "text/html": [
              "\n",
              "  <div id=\"df-119f8a81-6730-4ea4-81c9-b432ebf7da19\">\n",
              "    <div class=\"colab-df-container\">\n",
              "      <div>\n",
              "<style scoped>\n",
              "    .dataframe tbody tr th:only-of-type {\n",
              "        vertical-align: middle;\n",
              "    }\n",
              "\n",
              "    .dataframe tbody tr th {\n",
              "        vertical-align: top;\n",
              "    }\n",
              "\n",
              "    .dataframe thead th {\n",
              "        text-align: right;\n",
              "    }\n",
              "</style>\n",
              "<table border=\"1\" class=\"dataframe\">\n",
              "  <thead>\n",
              "    <tr style=\"text-align: right;\">\n",
              "      <th></th>\n",
              "      <th>post_id</th>\n",
              "      <th>post_title</th>\n",
              "      <th>subreddit</th>\n",
              "      <th>post_url</th>\n",
              "      <th>flair_text</th>\n",
              "      <th>score</th>\n",
              "      <th>comments</th>\n",
              "      <th>upvote_ratio</th>\n",
              "      <th>date-time</th>\n",
              "      <th>year</th>\n",
              "      <th>comment</th>\n",
              "    </tr>\n",
              "  </thead>\n",
              "  <tbody>\n",
              "    <tr>\n",
              "      <th>0</th>\n",
              "      <td>gh1dj9</td>\n",
              "      <td>[Project] From books to presentations in 10s w...</td>\n",
              "      <td>MachineLearning</td>\n",
              "      <td>https://v.redd.it/v492uoheuxx41</td>\n",
              "      <td>Project</td>\n",
              "      <td>7798</td>\n",
              "      <td>186</td>\n",
              "      <td>0.99</td>\n",
              "      <td>2020-05-10 13:19:54</td>\n",
              "      <td>2020</td>\n",
              "      <td>Twitter thread: [https://twitter.com/cyrildiag...</td>\n",
              "    </tr>\n",
              "    <tr>\n",
              "      <th>1</th>\n",
              "      <td>gh1dj9</td>\n",
              "      <td>[Project] From books to presentations in 10s w...</td>\n",
              "      <td>MachineLearning</td>\n",
              "      <td>https://v.redd.it/v492uoheuxx41</td>\n",
              "      <td>Project</td>\n",
              "      <td>7798</td>\n",
              "      <td>186</td>\n",
              "      <td>0.99</td>\n",
              "      <td>2020-05-10 13:19:54</td>\n",
              "      <td>2020</td>\n",
              "      <td>The future 🤯</td>\n",
              "    </tr>\n",
              "    <tr>\n",
              "      <th>2</th>\n",
              "      <td>gh1dj9</td>\n",
              "      <td>[Project] From books to presentations in 10s w...</td>\n",
              "      <td>MachineLearning</td>\n",
              "      <td>https://v.redd.it/v492uoheuxx41</td>\n",
              "      <td>Project</td>\n",
              "      <td>7798</td>\n",
              "      <td>186</td>\n",
              "      <td>0.99</td>\n",
              "      <td>2020-05-10 13:19:54</td>\n",
              "      <td>2020</td>\n",
              "      <td>Simple yet very useful. Thank you for sharing ...</td>\n",
              "    </tr>\n",
              "    <tr>\n",
              "      <th>3</th>\n",
              "      <td>gh1dj9</td>\n",
              "      <td>[Project] From books to presentations in 10s w...</td>\n",
              "      <td>MachineLearning</td>\n",
              "      <td>https://v.redd.it/v492uoheuxx41</td>\n",
              "      <td>Project</td>\n",
              "      <td>7798</td>\n",
              "      <td>186</td>\n",
              "      <td>0.99</td>\n",
              "      <td>2020-05-10 13:19:54</td>\n",
              "      <td>2020</td>\n",
              "      <td>Almost guaranteed, Apple will copy your idea i...</td>\n",
              "    </tr>\n",
              "    <tr>\n",
              "      <th>4</th>\n",
              "      <td>gh1dj9</td>\n",
              "      <td>[Project] From books to presentations in 10s w...</td>\n",
              "      <td>MachineLearning</td>\n",
              "      <td>https://v.redd.it/v492uoheuxx41</td>\n",
              "      <td>Project</td>\n",
              "      <td>7798</td>\n",
              "      <td>186</td>\n",
              "      <td>0.99</td>\n",
              "      <td>2020-05-10 13:19:54</td>\n",
              "      <td>2020</td>\n",
              "      <td>Ohh the nightmare of making this into a stable...</td>\n",
              "    </tr>\n",
              "    <tr>\n",
              "      <th>...</th>\n",
              "      <td>...</td>\n",
              "      <td>...</td>\n",
              "      <td>...</td>\n",
              "      <td>...</td>\n",
              "      <td>...</td>\n",
              "      <td>...</td>\n",
              "      <td>...</td>\n",
              "      <td>...</td>\n",
              "      <td>...</td>\n",
              "      <td>...</td>\n",
              "      <td>...</td>\n",
              "    </tr>\n",
              "    <tr>\n",
              "      <th>223163</th>\n",
              "      <td>efk5n3</td>\n",
              "      <td>Tesla's Neural Net can now identify red and gr...</td>\n",
              "      <td>artificial</td>\n",
              "      <td>https://www.teslarati.com/tesla-holiday-update...</td>\n",
              "      <td>NaN</td>\n",
              "      <td>80</td>\n",
              "      <td>10</td>\n",
              "      <td>0.89</td>\n",
              "      <td>2019-12-25 18:50:50</td>\n",
              "      <td>2019</td>\n",
              "      <td>LiDAR is mot powerful sensor for the auto driv...</td>\n",
              "    </tr>\n",
              "    <tr>\n",
              "      <th>223164</th>\n",
              "      <td>efk5n3</td>\n",
              "      <td>Tesla's Neural Net can now identify red and gr...</td>\n",
              "      <td>artificial</td>\n",
              "      <td>https://www.teslarati.com/tesla-holiday-update...</td>\n",
              "      <td>NaN</td>\n",
              "      <td>80</td>\n",
              "      <td>10</td>\n",
              "      <td>0.89</td>\n",
              "      <td>2019-12-25 18:50:50</td>\n",
              "      <td>2019</td>\n",
              "      <td>So it can now idenrify traffic lights? Musk pr...</td>\n",
              "    </tr>\n",
              "    <tr>\n",
              "      <th>223165</th>\n",
              "      <td>efk5n3</td>\n",
              "      <td>Tesla's Neural Net can now identify red and gr...</td>\n",
              "      <td>artificial</td>\n",
              "      <td>https://www.teslarati.com/tesla-holiday-update...</td>\n",
              "      <td>NaN</td>\n",
              "      <td>80</td>\n",
              "      <td>10</td>\n",
              "      <td>0.89</td>\n",
              "      <td>2019-12-25 18:50:50</td>\n",
              "      <td>2019</td>\n",
              "      <td>Hydranet bro!</td>\n",
              "    </tr>\n",
              "    <tr>\n",
              "      <th>223166</th>\n",
              "      <td>efk5n3</td>\n",
              "      <td>Tesla's Neural Net can now identify red and gr...</td>\n",
              "      <td>artificial</td>\n",
              "      <td>https://www.teslarati.com/tesla-holiday-update...</td>\n",
              "      <td>NaN</td>\n",
              "      <td>80</td>\n",
              "      <td>10</td>\n",
              "      <td>0.89</td>\n",
              "      <td>2019-12-25 18:50:50</td>\n",
              "      <td>2019</td>\n",
              "      <td>It even shows flashing yellow turn arrows.</td>\n",
              "    </tr>\n",
              "    <tr>\n",
              "      <th>223167</th>\n",
              "      <td>efk5n3</td>\n",
              "      <td>Tesla's Neural Net can now identify red and gr...</td>\n",
              "      <td>artificial</td>\n",
              "      <td>https://www.teslarati.com/tesla-holiday-update...</td>\n",
              "      <td>NaN</td>\n",
              "      <td>80</td>\n",
              "      <td>10</td>\n",
              "      <td>0.89</td>\n",
              "      <td>2019-12-25 18:50:50</td>\n",
              "      <td>2019</td>\n",
              "      <td>Ya just saw karpathy talk on hydra and pytorch.</td>\n",
              "    </tr>\n",
              "  </tbody>\n",
              "</table>\n",
              "<p>223168 rows × 11 columns</p>\n",
              "</div>\n",
              "      <button class=\"colab-df-convert\" onclick=\"convertToInteractive('df-119f8a81-6730-4ea4-81c9-b432ebf7da19')\"\n",
              "              title=\"Convert this dataframe to an interactive table.\"\n",
              "              style=\"display:none;\">\n",
              "        \n",
              "  <svg xmlns=\"http://www.w3.org/2000/svg\" height=\"24px\"viewBox=\"0 0 24 24\"\n",
              "       width=\"24px\">\n",
              "    <path d=\"M0 0h24v24H0V0z\" fill=\"none\"/>\n",
              "    <path d=\"M18.56 5.44l.94 2.06.94-2.06 2.06-.94-2.06-.94-.94-2.06-.94 2.06-2.06.94zm-11 1L8.5 8.5l.94-2.06 2.06-.94-2.06-.94L8.5 2.5l-.94 2.06-2.06.94zm10 10l.94 2.06.94-2.06 2.06-.94-2.06-.94-.94-2.06-.94 2.06-2.06.94z\"/><path d=\"M17.41 7.96l-1.37-1.37c-.4-.4-.92-.59-1.43-.59-.52 0-1.04.2-1.43.59L10.3 9.45l-7.72 7.72c-.78.78-.78 2.05 0 2.83L4 21.41c.39.39.9.59 1.41.59.51 0 1.02-.2 1.41-.59l7.78-7.78 2.81-2.81c.8-.78.8-2.07 0-2.86zM5.41 20L4 18.59l7.72-7.72 1.47 1.35L5.41 20z\"/>\n",
              "  </svg>\n",
              "      </button>\n",
              "      \n",
              "  <style>\n",
              "    .colab-df-container {\n",
              "      display:flex;\n",
              "      flex-wrap:wrap;\n",
              "      gap: 12px;\n",
              "    }\n",
              "\n",
              "    .colab-df-convert {\n",
              "      background-color: #E8F0FE;\n",
              "      border: none;\n",
              "      border-radius: 50%;\n",
              "      cursor: pointer;\n",
              "      display: none;\n",
              "      fill: #1967D2;\n",
              "      height: 32px;\n",
              "      padding: 0 0 0 0;\n",
              "      width: 32px;\n",
              "    }\n",
              "\n",
              "    .colab-df-convert:hover {\n",
              "      background-color: #E2EBFA;\n",
              "      box-shadow: 0px 1px 2px rgba(60, 64, 67, 0.3), 0px 1px 3px 1px rgba(60, 64, 67, 0.15);\n",
              "      fill: #174EA6;\n",
              "    }\n",
              "\n",
              "    [theme=dark] .colab-df-convert {\n",
              "      background-color: #3B4455;\n",
              "      fill: #D2E3FC;\n",
              "    }\n",
              "\n",
              "    [theme=dark] .colab-df-convert:hover {\n",
              "      background-color: #434B5C;\n",
              "      box-shadow: 0px 1px 3px 1px rgba(0, 0, 0, 0.15);\n",
              "      filter: drop-shadow(0px 1px 2px rgba(0, 0, 0, 0.3));\n",
              "      fill: #FFFFFF;\n",
              "    }\n",
              "  </style>\n",
              "\n",
              "      <script>\n",
              "        const buttonEl =\n",
              "          document.querySelector('#df-119f8a81-6730-4ea4-81c9-b432ebf7da19 button.colab-df-convert');\n",
              "        buttonEl.style.display =\n",
              "          google.colab.kernel.accessAllowed ? 'block' : 'none';\n",
              "\n",
              "        async function convertToInteractive(key) {\n",
              "          const element = document.querySelector('#df-119f8a81-6730-4ea4-81c9-b432ebf7da19');\n",
              "          const dataTable =\n",
              "            await google.colab.kernel.invokeFunction('convertToInteractive',\n",
              "                                                     [key], {});\n",
              "          if (!dataTable) return;\n",
              "\n",
              "          const docLinkHtml = 'Like what you see? Visit the ' +\n",
              "            '<a target=\"_blank\" href=https://colab.research.google.com/notebooks/data_table.ipynb>data table notebook</a>'\n",
              "            + ' to learn more about interactive tables.';\n",
              "          element.innerHTML = '';\n",
              "          dataTable['output_type'] = 'display_data';\n",
              "          await google.colab.output.renderOutput(dataTable, element);\n",
              "          const docLink = document.createElement('div');\n",
              "          docLink.innerHTML = docLinkHtml;\n",
              "          element.appendChild(docLink);\n",
              "        }\n",
              "      </script>\n",
              "    </div>\n",
              "  </div>\n",
              "  "
            ]
          },
          "metadata": {},
          "execution_count": 13
        }
      ]
    },
    {
      "cell_type": "code",
      "source": [
        "# Ignoring the unnecessary columns only\n",
        "merged_data = merged_data[[\"comment\", \"subreddit\"]]\n",
        "\n",
        "merged_data.head()"
      ],
      "metadata": {
        "id": "68wZzM0NI9wC",
        "colab": {
          "base_uri": "https://localhost:8080/",
          "height": 0
        },
        "outputId": "282a0c4a-f927-405e-94b7-a15253a87842"
      },
      "execution_count": 14,
      "outputs": [
        {
          "output_type": "execute_result",
          "data": {
            "text/plain": [
              "                                             comment        subreddit\n",
              "0  Twitter thread: [https://twitter.com/cyrildiag...  MachineLearning\n",
              "1                                       The future 🤯  MachineLearning\n",
              "2  Simple yet very useful. Thank you for sharing ...  MachineLearning\n",
              "3  Almost guaranteed, Apple will copy your idea i...  MachineLearning\n",
              "4  Ohh the nightmare of making this into a stable...  MachineLearning"
            ],
            "text/html": [
              "\n",
              "  <div id=\"df-d02f0c45-6623-46ea-b7b8-09863972eed1\">\n",
              "    <div class=\"colab-df-container\">\n",
              "      <div>\n",
              "<style scoped>\n",
              "    .dataframe tbody tr th:only-of-type {\n",
              "        vertical-align: middle;\n",
              "    }\n",
              "\n",
              "    .dataframe tbody tr th {\n",
              "        vertical-align: top;\n",
              "    }\n",
              "\n",
              "    .dataframe thead th {\n",
              "        text-align: right;\n",
              "    }\n",
              "</style>\n",
              "<table border=\"1\" class=\"dataframe\">\n",
              "  <thead>\n",
              "    <tr style=\"text-align: right;\">\n",
              "      <th></th>\n",
              "      <th>comment</th>\n",
              "      <th>subreddit</th>\n",
              "    </tr>\n",
              "  </thead>\n",
              "  <tbody>\n",
              "    <tr>\n",
              "      <th>0</th>\n",
              "      <td>Twitter thread: [https://twitter.com/cyrildiag...</td>\n",
              "      <td>MachineLearning</td>\n",
              "    </tr>\n",
              "    <tr>\n",
              "      <th>1</th>\n",
              "      <td>The future 🤯</td>\n",
              "      <td>MachineLearning</td>\n",
              "    </tr>\n",
              "    <tr>\n",
              "      <th>2</th>\n",
              "      <td>Simple yet very useful. Thank you for sharing ...</td>\n",
              "      <td>MachineLearning</td>\n",
              "    </tr>\n",
              "    <tr>\n",
              "      <th>3</th>\n",
              "      <td>Almost guaranteed, Apple will copy your idea i...</td>\n",
              "      <td>MachineLearning</td>\n",
              "    </tr>\n",
              "    <tr>\n",
              "      <th>4</th>\n",
              "      <td>Ohh the nightmare of making this into a stable...</td>\n",
              "      <td>MachineLearning</td>\n",
              "    </tr>\n",
              "  </tbody>\n",
              "</table>\n",
              "</div>\n",
              "      <button class=\"colab-df-convert\" onclick=\"convertToInteractive('df-d02f0c45-6623-46ea-b7b8-09863972eed1')\"\n",
              "              title=\"Convert this dataframe to an interactive table.\"\n",
              "              style=\"display:none;\">\n",
              "        \n",
              "  <svg xmlns=\"http://www.w3.org/2000/svg\" height=\"24px\"viewBox=\"0 0 24 24\"\n",
              "       width=\"24px\">\n",
              "    <path d=\"M0 0h24v24H0V0z\" fill=\"none\"/>\n",
              "    <path d=\"M18.56 5.44l.94 2.06.94-2.06 2.06-.94-2.06-.94-.94-2.06-.94 2.06-2.06.94zm-11 1L8.5 8.5l.94-2.06 2.06-.94-2.06-.94L8.5 2.5l-.94 2.06-2.06.94zm10 10l.94 2.06.94-2.06 2.06-.94-2.06-.94-.94-2.06-.94 2.06-2.06.94z\"/><path d=\"M17.41 7.96l-1.37-1.37c-.4-.4-.92-.59-1.43-.59-.52 0-1.04.2-1.43.59L10.3 9.45l-7.72 7.72c-.78.78-.78 2.05 0 2.83L4 21.41c.39.39.9.59 1.41.59.51 0 1.02-.2 1.41-.59l7.78-7.78 2.81-2.81c.8-.78.8-2.07 0-2.86zM5.41 20L4 18.59l7.72-7.72 1.47 1.35L5.41 20z\"/>\n",
              "  </svg>\n",
              "      </button>\n",
              "      \n",
              "  <style>\n",
              "    .colab-df-container {\n",
              "      display:flex;\n",
              "      flex-wrap:wrap;\n",
              "      gap: 12px;\n",
              "    }\n",
              "\n",
              "    .colab-df-convert {\n",
              "      background-color: #E8F0FE;\n",
              "      border: none;\n",
              "      border-radius: 50%;\n",
              "      cursor: pointer;\n",
              "      display: none;\n",
              "      fill: #1967D2;\n",
              "      height: 32px;\n",
              "      padding: 0 0 0 0;\n",
              "      width: 32px;\n",
              "    }\n",
              "\n",
              "    .colab-df-convert:hover {\n",
              "      background-color: #E2EBFA;\n",
              "      box-shadow: 0px 1px 2px rgba(60, 64, 67, 0.3), 0px 1px 3px 1px rgba(60, 64, 67, 0.15);\n",
              "      fill: #174EA6;\n",
              "    }\n",
              "\n",
              "    [theme=dark] .colab-df-convert {\n",
              "      background-color: #3B4455;\n",
              "      fill: #D2E3FC;\n",
              "    }\n",
              "\n",
              "    [theme=dark] .colab-df-convert:hover {\n",
              "      background-color: #434B5C;\n",
              "      box-shadow: 0px 1px 3px 1px rgba(0, 0, 0, 0.15);\n",
              "      filter: drop-shadow(0px 1px 2px rgba(0, 0, 0, 0.3));\n",
              "      fill: #FFFFFF;\n",
              "    }\n",
              "  </style>\n",
              "\n",
              "      <script>\n",
              "        const buttonEl =\n",
              "          document.querySelector('#df-d02f0c45-6623-46ea-b7b8-09863972eed1 button.colab-df-convert');\n",
              "        buttonEl.style.display =\n",
              "          google.colab.kernel.accessAllowed ? 'block' : 'none';\n",
              "\n",
              "        async function convertToInteractive(key) {\n",
              "          const element = document.querySelector('#df-d02f0c45-6623-46ea-b7b8-09863972eed1');\n",
              "          const dataTable =\n",
              "            await google.colab.kernel.invokeFunction('convertToInteractive',\n",
              "                                                     [key], {});\n",
              "          if (!dataTable) return;\n",
              "\n",
              "          const docLinkHtml = 'Like what you see? Visit the ' +\n",
              "            '<a target=\"_blank\" href=https://colab.research.google.com/notebooks/data_table.ipynb>data table notebook</a>'\n",
              "            + ' to learn more about interactive tables.';\n",
              "          element.innerHTML = '';\n",
              "          dataTable['output_type'] = 'display_data';\n",
              "          await google.colab.output.renderOutput(dataTable, element);\n",
              "          const docLink = document.createElement('div');\n",
              "          docLink.innerHTML = docLinkHtml;\n",
              "          element.appendChild(docLink);\n",
              "        }\n",
              "      </script>\n",
              "    </div>\n",
              "  </div>\n",
              "  "
            ]
          },
          "metadata": {},
          "execution_count": 14
        }
      ]
    },
    {
      "cell_type": "markdown",
      "source": [
        "# Data Cleaning"
      ],
      "metadata": {
        "id": "n-6U95jp4esj"
      }
    },
    {
      "cell_type": "code",
      "source": [
        "print(merged_data.shape)\n",
        "\n",
        "# checking for missing values\n",
        "merged_data.isnull().sum()\n"
      ],
      "metadata": {
        "colab": {
          "base_uri": "https://localhost:8080/"
        },
        "id": "_72JpYzpHrfK",
        "outputId": "dd5a2f28-1c21-449b-f07a-02adec81beea"
      },
      "execution_count": 15,
      "outputs": [
        {
          "output_type": "stream",
          "name": "stdout",
          "text": [
            "(223168, 2)\n"
          ]
        },
        {
          "output_type": "execute_result",
          "data": {
            "text/plain": [
              "comment      9\n",
              "subreddit    0\n",
              "dtype: int64"
            ]
          },
          "metadata": {},
          "execution_count": 15
        }
      ]
    },
    {
      "cell_type": "code",
      "source": [
        "merged_data.dropna(inplace=True)\n",
        "\n",
        "print(merged_data.shape)"
      ],
      "metadata": {
        "colab": {
          "base_uri": "https://localhost:8080/"
        },
        "id": "eEzpmOmio_WT",
        "outputId": "c85d92c1-4c6f-4667-b592-6fcf48d446da"
      },
      "execution_count": 16,
      "outputs": [
        {
          "output_type": "stream",
          "name": "stdout",
          "text": [
            "(223159, 2)\n"
          ]
        },
        {
          "output_type": "stream",
          "name": "stderr",
          "text": [
            "<ipython-input-16-b1443c6d7364>:1: SettingWithCopyWarning: \n",
            "A value is trying to be set on a copy of a slice from a DataFrame\n",
            "\n",
            "See the caveats in the documentation: https://pandas.pydata.org/pandas-docs/stable/user_guide/indexing.html#returning-a-view-versus-a-copy\n",
            "  merged_data.dropna(inplace=True)\n"
          ]
        }
      ]
    },
    {
      "cell_type": "code",
      "source": [
        "import nltk\n",
        "nltk.download('stopwords')"
      ],
      "metadata": {
        "colab": {
          "base_uri": "https://localhost:8080/"
        },
        "id": "Sol30F8TrrpZ",
        "outputId": "254ade3c-4eb2-4753-d062-f8831dc4d428"
      },
      "execution_count": 17,
      "outputs": [
        {
          "output_type": "stream",
          "name": "stderr",
          "text": [
            "[nltk_data] Downloading package stopwords to /root/nltk_data...\n",
            "[nltk_data]   Unzipping corpora/stopwords.zip.\n"
          ]
        },
        {
          "output_type": "execute_result",
          "data": {
            "text/plain": [
              "True"
            ]
          },
          "metadata": {},
          "execution_count": 17
        }
      ]
    },
    {
      "cell_type": "code",
      "source": [
        "# Written by me by referring to Reference \n",
        "# Importing nltk library for in-built stopwords\n",
        "from nltk.corpus import stopwords\n",
        "stop_words = stopwords.words('english')\n",
        "\n",
        "# Written by me by referring to Reference \n",
        "# Importing nltk for Lemmatization\n",
        "from nltk.stem import WordNetLemmatizer\n",
        "lemmatizer = WordNetLemmatizer()\n",
        "\n",
        "# Below lines of code are my own code\n",
        "import string\n",
        "\n",
        "# Defining a function to clean the data\n",
        "def clean(doc):\n",
        "    doc = str(doc)                                              # converting to string \n",
        "    doc = doc.lower().strip()                                   # converting to lower case and stripping the whitespaces\n",
        "\n",
        "    doc = \"\".join([re.sub(r'^https?:\\/\\/.*[\\r\\n]*', '', doc, flags=re.MULTILINE) for char in doc]) \n",
        "    doc = \"\".join([re.sub('<.*?>+', '', doc) for char in doc])\n",
        "\n",
        "    doc = \"\".join([char for char in doc if char not in string.punctuation and not char.isdigit()])          # removing punctuations and digits\n",
        "\n",
        "    \n",
        "  \n",
        "  # Written by me by referring to Reference \n",
        "    doc = \" \".join([token for token in doc.split() if token not in stop_words])                              # splitting the doc into tokens and removing stopwords\n",
        "  \n",
        "  # Written by me by referring to Reference  \n",
        "    doc = \"\".join([lemmatizer.lemmatize(word) for word in doc])                                             # lemmatizing the doc\n",
        "    return doc"
      ],
      "metadata": {
        "id": "2OaSuyipJRhY"
      },
      "execution_count": 18,
      "outputs": []
    },
    {
      "cell_type": "code",
      "source": [
        "merged_data[\"comment\"] = merged_data[\"comment\"].apply(clean)"
      ],
      "metadata": {
        "id": "CcHTtnTEHGLQ"
      },
      "execution_count": null,
      "outputs": []
    },
    {
      "cell_type": "code",
      "source": [
        "merged_data.head()"
      ],
      "metadata": {
        "colab": {
          "base_uri": "https://localhost:8080/",
          "height": 206
        },
        "id": "IeqmOxhfZ8vX",
        "outputId": "4fd65c1f-5d02-4b16-b594-4d3041646fac"
      },
      "execution_count": null,
      "outputs": [
        {
          "output_type": "execute_result",
          "data": {
            "text/plain": [
              "                                             comment        subreddit\n",
              "0  twitter thread httpstwittercomcyrildiagnestatu...  MachineLearning\n",
              "1                                           future 🤯  MachineLearning\n",
              "2               simple yet useful thank sharing code  MachineLearning\n",
              "3                  almost guaranteed apple copy idea  MachineLearning\n",
              "4  ohh nightmare making stable product enough dri...  MachineLearning"
            ],
            "text/html": [
              "\n",
              "  <div id=\"df-ec244e20-e110-4e2b-9d14-a7fe66129eba\">\n",
              "    <div class=\"colab-df-container\">\n",
              "      <div>\n",
              "<style scoped>\n",
              "    .dataframe tbody tr th:only-of-type {\n",
              "        vertical-align: middle;\n",
              "    }\n",
              "\n",
              "    .dataframe tbody tr th {\n",
              "        vertical-align: top;\n",
              "    }\n",
              "\n",
              "    .dataframe thead th {\n",
              "        text-align: right;\n",
              "    }\n",
              "</style>\n",
              "<table border=\"1\" class=\"dataframe\">\n",
              "  <thead>\n",
              "    <tr style=\"text-align: right;\">\n",
              "      <th></th>\n",
              "      <th>comment</th>\n",
              "      <th>subreddit</th>\n",
              "    </tr>\n",
              "  </thead>\n",
              "  <tbody>\n",
              "    <tr>\n",
              "      <th>0</th>\n",
              "      <td>twitter thread httpstwittercomcyrildiagnestatu...</td>\n",
              "      <td>MachineLearning</td>\n",
              "    </tr>\n",
              "    <tr>\n",
              "      <th>1</th>\n",
              "      <td>future 🤯</td>\n",
              "      <td>MachineLearning</td>\n",
              "    </tr>\n",
              "    <tr>\n",
              "      <th>2</th>\n",
              "      <td>simple yet useful thank sharing code</td>\n",
              "      <td>MachineLearning</td>\n",
              "    </tr>\n",
              "    <tr>\n",
              "      <th>3</th>\n",
              "      <td>almost guaranteed apple copy idea</td>\n",
              "      <td>MachineLearning</td>\n",
              "    </tr>\n",
              "    <tr>\n",
              "      <th>4</th>\n",
              "      <td>ohh nightmare making stable product enough dri...</td>\n",
              "      <td>MachineLearning</td>\n",
              "    </tr>\n",
              "  </tbody>\n",
              "</table>\n",
              "</div>\n",
              "      <button class=\"colab-df-convert\" onclick=\"convertToInteractive('df-ec244e20-e110-4e2b-9d14-a7fe66129eba')\"\n",
              "              title=\"Convert this dataframe to an interactive table.\"\n",
              "              style=\"display:none;\">\n",
              "        \n",
              "  <svg xmlns=\"http://www.w3.org/2000/svg\" height=\"24px\"viewBox=\"0 0 24 24\"\n",
              "       width=\"24px\">\n",
              "    <path d=\"M0 0h24v24H0V0z\" fill=\"none\"/>\n",
              "    <path d=\"M18.56 5.44l.94 2.06.94-2.06 2.06-.94-2.06-.94-.94-2.06-.94 2.06-2.06.94zm-11 1L8.5 8.5l.94-2.06 2.06-.94-2.06-.94L8.5 2.5l-.94 2.06-2.06.94zm10 10l.94 2.06.94-2.06 2.06-.94-2.06-.94-.94-2.06-.94 2.06-2.06.94z\"/><path d=\"M17.41 7.96l-1.37-1.37c-.4-.4-.92-.59-1.43-.59-.52 0-1.04.2-1.43.59L10.3 9.45l-7.72 7.72c-.78.78-.78 2.05 0 2.83L4 21.41c.39.39.9.59 1.41.59.51 0 1.02-.2 1.41-.59l7.78-7.78 2.81-2.81c.8-.78.8-2.07 0-2.86zM5.41 20L4 18.59l7.72-7.72 1.47 1.35L5.41 20z\"/>\n",
              "  </svg>\n",
              "      </button>\n",
              "      \n",
              "  <style>\n",
              "    .colab-df-container {\n",
              "      display:flex;\n",
              "      flex-wrap:wrap;\n",
              "      gap: 12px;\n",
              "    }\n",
              "\n",
              "    .colab-df-convert {\n",
              "      background-color: #E8F0FE;\n",
              "      border: none;\n",
              "      border-radius: 50%;\n",
              "      cursor: pointer;\n",
              "      display: none;\n",
              "      fill: #1967D2;\n",
              "      height: 32px;\n",
              "      padding: 0 0 0 0;\n",
              "      width: 32px;\n",
              "    }\n",
              "\n",
              "    .colab-df-convert:hover {\n",
              "      background-color: #E2EBFA;\n",
              "      box-shadow: 0px 1px 2px rgba(60, 64, 67, 0.3), 0px 1px 3px 1px rgba(60, 64, 67, 0.15);\n",
              "      fill: #174EA6;\n",
              "    }\n",
              "\n",
              "    [theme=dark] .colab-df-convert {\n",
              "      background-color: #3B4455;\n",
              "      fill: #D2E3FC;\n",
              "    }\n",
              "\n",
              "    [theme=dark] .colab-df-convert:hover {\n",
              "      background-color: #434B5C;\n",
              "      box-shadow: 0px 1px 3px 1px rgba(0, 0, 0, 0.15);\n",
              "      filter: drop-shadow(0px 1px 2px rgba(0, 0, 0, 0.3));\n",
              "      fill: #FFFFFF;\n",
              "    }\n",
              "  </style>\n",
              "\n",
              "      <script>\n",
              "        const buttonEl =\n",
              "          document.querySelector('#df-ec244e20-e110-4e2b-9d14-a7fe66129eba button.colab-df-convert');\n",
              "        buttonEl.style.display =\n",
              "          google.colab.kernel.accessAllowed ? 'block' : 'none';\n",
              "\n",
              "        async function convertToInteractive(key) {\n",
              "          const element = document.querySelector('#df-ec244e20-e110-4e2b-9d14-a7fe66129eba');\n",
              "          const dataTable =\n",
              "            await google.colab.kernel.invokeFunction('convertToInteractive',\n",
              "                                                     [key], {});\n",
              "          if (!dataTable) return;\n",
              "\n",
              "          const docLinkHtml = 'Like what you see? Visit the ' +\n",
              "            '<a target=\"_blank\" href=https://colab.research.google.com/notebooks/data_table.ipynb>data table notebook</a>'\n",
              "            + ' to learn more about interactive tables.';\n",
              "          element.innerHTML = '';\n",
              "          dataTable['output_type'] = 'display_data';\n",
              "          await google.colab.output.renderOutput(dataTable, element);\n",
              "          const docLink = document.createElement('div');\n",
              "          docLink.innerHTML = docLinkHtml;\n",
              "          element.appendChild(docLink);\n",
              "        }\n",
              "      </script>\n",
              "    </div>\n",
              "  </div>\n",
              "  "
            ]
          },
          "metadata": {},
          "execution_count": 86
        }
      ]
    },
    {
      "cell_type": "code",
      "source": [
        "#data = merged_data.sample(frac=0.5)"
      ],
      "metadata": {
        "id": "gxWnMJiuVl80"
      },
      "execution_count": null,
      "outputs": []
    },
    {
      "cell_type": "code",
      "source": [
        "#data.shape"
      ],
      "metadata": {
        "colab": {
          "base_uri": "https://localhost:8080/"
        },
        "id": "WlNb8lopWfz5",
        "outputId": "d2ff6c5d-2a9e-4224-bb2c-87105c9ded49"
      },
      "execution_count": null,
      "outputs": [
        {
          "output_type": "execute_result",
          "data": {
            "text/plain": [
              "(111584, 2)"
            ]
          },
          "metadata": {},
          "execution_count": 60
        }
      ]
    },
    {
      "cell_type": "code",
      "source": [
        "# docs = list(merged_data['comment'])\n",
        "# tfidf_vectorizer = TfidfVectorizer(use_idf=True, max_features = 3000) \n",
        "# tfidf_vectorizer_vectors = tfidf_vectorizer.fit_transform(docs)\n",
        "# docs = tfidf_vectorizer_vectors.toarray()"
      ],
      "metadata": {
        "id": "F5RzKrV8KFkd"
      },
      "execution_count": null,
      "outputs": []
    },
    {
      "cell_type": "code",
      "source": [
        "docs"
      ],
      "metadata": {
        "colab": {
          "base_uri": "https://localhost:8080/"
        },
        "id": "eRbvBsNCTrTX",
        "outputId": "34260d70-cb1e-41e0-98b3-d3132aaaf3ec"
      },
      "execution_count": null,
      "outputs": [
        {
          "output_type": "execute_result",
          "data": {
            "text/plain": [
              "array([[0., 0., 0., ..., 0., 0., 0.],\n",
              "       [0., 0., 0., ..., 0., 0., 0.],\n",
              "       [0., 0., 0., ..., 0., 0., 0.],\n",
              "       ...,\n",
              "       [0., 0., 0., ..., 0., 0., 0.],\n",
              "       [0., 0., 0., ..., 0., 0., 0.],\n",
              "       [0., 0., 0., ..., 0., 0., 0.]])"
            ]
          },
          "metadata": {},
          "execution_count": 22
        }
      ]
    },
    {
      "cell_type": "markdown",
      "source": [
        "# Splitiing dataset"
      ],
      "metadata": {
        "id": "8cGj49Kt7rIR"
      }
    },
    {
      "cell_type": "code",
      "source": [
        "X = docs \n",
        "y = merged_data['subreddit']\n",
        "\n",
        "# Split the data into training and remaining datasets\n",
        "X_train, X_rem, y_train, y_rem = train_test_split(X, y, train_size = 0.6)\n",
        "\n",
        "# Split the remaining dataset into development and test datasets\n",
        "X_val, X_test, y_val, y_test = train_test_split(X_rem, y_rem, train_size = 0.5)\n",
        "\n",
        "\n",
        "print(X_train.shape, y_train.shape)\n",
        "print(X_val.shape, y_val.shape)\n",
        "print(X_test.shape, y_test.shape)"
      ],
      "metadata": {
        "colab": {
          "base_uri": "https://localhost:8080/",
          "height": 389
        },
        "id": "ZpYAFV8DfAZf",
        "outputId": "3efd89d4-88d6-4dbb-f8b1-5d93f846ca6f"
      },
      "execution_count": null,
      "outputs": [
        {
          "output_type": "error",
          "ename": "ValueError",
          "evalue": "ignored",
          "traceback": [
            "\u001b[0;31m---------------------------------------------------------------------------\u001b[0m",
            "\u001b[0;31mValueError\u001b[0m                                Traceback (most recent call last)",
            "\u001b[0;32m<ipython-input-66-aa9227d65a50>\u001b[0m in \u001b[0;36m<cell line: 5>\u001b[0;34m()\u001b[0m\n\u001b[1;32m      3\u001b[0m \u001b[0;34m\u001b[0m\u001b[0m\n\u001b[1;32m      4\u001b[0m \u001b[0;31m# Split the data into training and remaining datasets\u001b[0m\u001b[0;34m\u001b[0m\u001b[0;34m\u001b[0m\u001b[0m\n\u001b[0;32m----> 5\u001b[0;31m \u001b[0mX_train\u001b[0m\u001b[0;34m,\u001b[0m \u001b[0mX_rem\u001b[0m\u001b[0;34m,\u001b[0m \u001b[0my_train\u001b[0m\u001b[0;34m,\u001b[0m \u001b[0my_rem\u001b[0m \u001b[0;34m=\u001b[0m \u001b[0mtrain_test_split\u001b[0m\u001b[0;34m(\u001b[0m\u001b[0mX\u001b[0m\u001b[0;34m,\u001b[0m \u001b[0my\u001b[0m\u001b[0;34m,\u001b[0m \u001b[0mtrain_size\u001b[0m \u001b[0;34m=\u001b[0m \u001b[0;36m0.6\u001b[0m\u001b[0;34m)\u001b[0m\u001b[0;34m\u001b[0m\u001b[0;34m\u001b[0m\u001b[0m\n\u001b[0m\u001b[1;32m      6\u001b[0m \u001b[0;34m\u001b[0m\u001b[0m\n\u001b[1;32m      7\u001b[0m \u001b[0;31m# Split the remaining dataset into development and test datasets\u001b[0m\u001b[0;34m\u001b[0m\u001b[0;34m\u001b[0m\u001b[0m\n",
            "\u001b[0;32m/usr/local/lib/python3.9/dist-packages/sklearn/model_selection/_split.py\u001b[0m in \u001b[0;36mtrain_test_split\u001b[0;34m(test_size, train_size, random_state, shuffle, stratify, *arrays)\u001b[0m\n\u001b[1;32m   2557\u001b[0m         \u001b[0;32mraise\u001b[0m \u001b[0mValueError\u001b[0m\u001b[0;34m(\u001b[0m\u001b[0;34m\"At least one array required as input\"\u001b[0m\u001b[0;34m)\u001b[0m\u001b[0;34m\u001b[0m\u001b[0;34m\u001b[0m\u001b[0m\n\u001b[1;32m   2558\u001b[0m \u001b[0;34m\u001b[0m\u001b[0m\n\u001b[0;32m-> 2559\u001b[0;31m     \u001b[0marrays\u001b[0m \u001b[0;34m=\u001b[0m \u001b[0mindexable\u001b[0m\u001b[0;34m(\u001b[0m\u001b[0;34m*\u001b[0m\u001b[0marrays\u001b[0m\u001b[0;34m)\u001b[0m\u001b[0;34m\u001b[0m\u001b[0;34m\u001b[0m\u001b[0m\n\u001b[0m\u001b[1;32m   2560\u001b[0m \u001b[0;34m\u001b[0m\u001b[0m\n\u001b[1;32m   2561\u001b[0m     \u001b[0mn_samples\u001b[0m \u001b[0;34m=\u001b[0m \u001b[0m_num_samples\u001b[0m\u001b[0;34m(\u001b[0m\u001b[0marrays\u001b[0m\u001b[0;34m[\u001b[0m\u001b[0;36m0\u001b[0m\u001b[0;34m]\u001b[0m\u001b[0;34m)\u001b[0m\u001b[0;34m\u001b[0m\u001b[0;34m\u001b[0m\u001b[0m\n",
            "\u001b[0;32m/usr/local/lib/python3.9/dist-packages/sklearn/utils/validation.py\u001b[0m in \u001b[0;36mindexable\u001b[0;34m(*iterables)\u001b[0m\n\u001b[1;32m    441\u001b[0m \u001b[0;34m\u001b[0m\u001b[0m\n\u001b[1;32m    442\u001b[0m     \u001b[0mresult\u001b[0m \u001b[0;34m=\u001b[0m \u001b[0;34m[\u001b[0m\u001b[0m_make_indexable\u001b[0m\u001b[0;34m(\u001b[0m\u001b[0mX\u001b[0m\u001b[0;34m)\u001b[0m \u001b[0;32mfor\u001b[0m \u001b[0mX\u001b[0m \u001b[0;32min\u001b[0m \u001b[0miterables\u001b[0m\u001b[0;34m]\u001b[0m\u001b[0;34m\u001b[0m\u001b[0;34m\u001b[0m\u001b[0m\n\u001b[0;32m--> 443\u001b[0;31m     \u001b[0mcheck_consistent_length\u001b[0m\u001b[0;34m(\u001b[0m\u001b[0;34m*\u001b[0m\u001b[0mresult\u001b[0m\u001b[0;34m)\u001b[0m\u001b[0;34m\u001b[0m\u001b[0;34m\u001b[0m\u001b[0m\n\u001b[0m\u001b[1;32m    444\u001b[0m     \u001b[0;32mreturn\u001b[0m \u001b[0mresult\u001b[0m\u001b[0;34m\u001b[0m\u001b[0;34m\u001b[0m\u001b[0m\n\u001b[1;32m    445\u001b[0m \u001b[0;34m\u001b[0m\u001b[0m\n",
            "\u001b[0;32m/usr/local/lib/python3.9/dist-packages/sklearn/utils/validation.py\u001b[0m in \u001b[0;36mcheck_consistent_length\u001b[0;34m(*arrays)\u001b[0m\n\u001b[1;32m    395\u001b[0m     \u001b[0muniques\u001b[0m \u001b[0;34m=\u001b[0m \u001b[0mnp\u001b[0m\u001b[0;34m.\u001b[0m\u001b[0munique\u001b[0m\u001b[0;34m(\u001b[0m\u001b[0mlengths\u001b[0m\u001b[0;34m)\u001b[0m\u001b[0;34m\u001b[0m\u001b[0;34m\u001b[0m\u001b[0m\n\u001b[1;32m    396\u001b[0m     \u001b[0;32mif\u001b[0m \u001b[0mlen\u001b[0m\u001b[0;34m(\u001b[0m\u001b[0muniques\u001b[0m\u001b[0;34m)\u001b[0m \u001b[0;34m>\u001b[0m \u001b[0;36m1\u001b[0m\u001b[0;34m:\u001b[0m\u001b[0;34m\u001b[0m\u001b[0;34m\u001b[0m\u001b[0m\n\u001b[0;32m--> 397\u001b[0;31m         raise ValueError(\n\u001b[0m\u001b[1;32m    398\u001b[0m             \u001b[0;34m\"Found input variables with inconsistent numbers of samples: %r\"\u001b[0m\u001b[0;34m\u001b[0m\u001b[0;34m\u001b[0m\u001b[0m\n\u001b[1;32m    399\u001b[0m             \u001b[0;34m%\u001b[0m \u001b[0;34m[\u001b[0m\u001b[0mint\u001b[0m\u001b[0;34m(\u001b[0m\u001b[0ml\u001b[0m\u001b[0;34m)\u001b[0m \u001b[0;32mfor\u001b[0m \u001b[0ml\u001b[0m \u001b[0;32min\u001b[0m \u001b[0mlengths\u001b[0m\u001b[0;34m]\u001b[0m\u001b[0;34m\u001b[0m\u001b[0;34m\u001b[0m\u001b[0m\n",
            "\u001b[0;31mValueError\u001b[0m: Found input variables with inconsistent numbers of samples: [111580, 111584]"
          ]
        }
      ]
    },
    {
      "cell_type": "code",
      "source": [
        "# gnb = GaussianNB() \n",
        "# %time gnb.fit(X_train, y_train)\n",
        "\n",
        "# y_pred_train = gnb.predict(X_train)\n",
        "# y_pred_val = gnb.predict(X_val)\n",
        "# y_pred_test = gnb.predict(X_test)\n",
        "\n",
        "# print(\"\\nTraining Accuracy score:\",accuracy_score(y_train, y_pred_train))\n",
        "# print(\"Testing Accuracy score:\",accuracy_score(y_test, y_pred_test))\n",
        "# print(\"Validation Accuracy score:\",accuracy_score(y_val, y_pred_val))"
      ],
      "metadata": {
        "id": "b1vdOyKCun9x"
      },
      "execution_count": null,
      "outputs": []
    },
    {
      "cell_type": "code",
      "source": [
        "# print(classification_report(y_test, y_pred_test, target_names=['MachineLearning', 'datascience','artificial']))"
      ],
      "metadata": {
        "id": "cbQ3yTClutOa"
      },
      "execution_count": null,
      "outputs": []
    },
    {
      "cell_type": "markdown",
      "source": [
        "# Using MultiNormial Naive Bayes"
      ],
      "metadata": {
        "id": "ckD9FAdiGEAZ"
      }
    },
    {
      "cell_type": "code",
      "source": [
        "mnb = MultinomialNB() \n",
        "%time mnb.fit(X_train, y_train)\n",
        "\n",
        "y_pred_train = mnb.predict(X_train)\n",
        "y_pred_test = mnb.predict(X_test)\n",
        "print(\"\\nTraining Accuracy score:\",accuracy_score(y_train, y_pred_train))\n",
        "print(\"Testing Accuracy score:\",accuracy_score(y_test, y_pred_test))\n"
      ],
      "metadata": {
        "colab": {
          "base_uri": "https://localhost:8080/"
        },
        "id": "qpyNGspAFP3l",
        "outputId": "a8f2b3b9-05b4-4cf4-89f0-4ee3398327fa"
      },
      "execution_count": null,
      "outputs": [
        {
          "output_type": "stream",
          "name": "stdout",
          "text": [
            "CPU times: user 1.43 s, sys: 38 ms, total: 1.47 s\n",
            "Wall time: 1.03 s\n",
            "\n",
            "Training Accuracy score: 0.6953979207743323\n",
            "Testing Accuracy score: 0.6862789030292167\n"
          ]
        }
      ]
    },
    {
      "cell_type": "code",
      "source": [
        "print(classification_report(y_test, y_pred_test, target_names=['MachineLearning', 'datascience','artificial']))"
      ],
      "metadata": {
        "colab": {
          "base_uri": "https://localhost:8080/"
        },
        "id": "MRh__a6qGIJ2",
        "outputId": "456cc3f7-2a66-4692-80b0-2f933b77d04c"
      },
      "execution_count": null,
      "outputs": [
        {
          "output_type": "stream",
          "name": "stdout",
          "text": [
            "                 precision    recall  f1-score   support\n",
            "\n",
            "MachineLearning       0.66      0.70      0.68      9531\n",
            "    datascience       0.54      0.01      0.01      2019\n",
            "     artificial       0.71      0.80      0.75     10766\n",
            "\n",
            "       accuracy                           0.69     22316\n",
            "      macro avg       0.63      0.50      0.48     22316\n",
            "   weighted avg       0.67      0.69      0.65     22316\n",
            "\n"
          ]
        }
      ]
    },
    {
      "cell_type": "markdown",
      "source": [
        "# Support Vector Classifier"
      ],
      "metadata": {
        "id": "tKWGnk90Gd4U"
      }
    },
    {
      "cell_type": "code",
      "source": [
        "svc =  LinearSVC(class_weight='balanced') \n",
        "%time svc.fit(X_train, y_train)\n",
        "\n",
        "y_pred_train = svc.predict(X_train)\n",
        "y_pred_test = svc.predict(X_test)\n",
        "print(\"\\nTraining Accuracy score:\",accuracy_score(y_train, y_pred_train))\n",
        "print(\"Validation Accuracy score:\",accuracy_score(y_test, y_pred_test))"
      ],
      "metadata": {
        "colab": {
          "base_uri": "https://localhost:8080/"
        },
        "id": "tAFb2HDDGUSU",
        "outputId": "43ffde9d-acb7-4025-d672-9b575b608a79"
      },
      "execution_count": null,
      "outputs": [
        {
          "output_type": "stream",
          "name": "stdout",
          "text": [
            "CPU times: user 5.09 s, sys: 27.2 ms, total: 5.12 s\n",
            "Wall time: 5.36 s\n",
            "\n",
            "Training Accuracy score: 0.6969550994801936\n",
            "Testing Accuracy score: 0.6594819860189998\n"
          ]
        }
      ]
    },
    {
      "cell_type": "code",
      "source": [
        "print(classification_report(y_test, y_pred_test, target_names=['MachineLearning', 'datascience','artificial']))"
      ],
      "metadata": {
        "colab": {
          "base_uri": "https://localhost:8080/"
        },
        "id": "c237ZDh_GhHL",
        "outputId": "f161e9f4-7ef0-41d4-b982-8ce03ef7f077"
      },
      "execution_count": null,
      "outputs": [
        {
          "output_type": "stream",
          "name": "stdout",
          "text": [
            "                 precision    recall  f1-score   support\n",
            "\n",
            "MachineLearning       0.67      0.63      0.65      9531\n",
            "    datascience       0.26      0.33      0.29      2019\n",
            "     artificial       0.75      0.74      0.75     10766\n",
            "\n",
            "       accuracy                           0.66     22316\n",
            "      macro avg       0.56      0.57      0.56     22316\n",
            "   weighted avg       0.67      0.66      0.66     22316\n",
            "\n"
          ]
        }
      ]
    },
    {
      "cell_type": "markdown",
      "source": [
        "# Decision Tree Classifier"
      ],
      "metadata": {
        "id": "ukmT11raXct_"
      }
    },
    {
      "cell_type": "code",
      "source": [
        "from sklearn.tree import DecisionTreeClassifier\n",
        "\n",
        "dtc = DecisionTreeClassifier()\n",
        "dtc = dtc.fit(X_train, y_train)\n",
        "\n",
        "y_pred_train = dtc.predict(X_train)\n",
        "y_pred_val = dtc.predict(X_val)\n",
        "print(\"\\nTraining Accuracy score:\",accuracy_score(y_train, y_pred_train))\n",
        "print(\"Validation Accuracy score:\",accuracy_score(y_val, y_pred_val))"
      ],
      "metadata": {
        "colab": {
          "base_uri": "https://localhost:8080/"
        },
        "id": "NVnpcHefGk8s",
        "outputId": "1c51f03d-1f89-4e8b-a6b0-0a9d01ea3a5a"
      },
      "execution_count": null,
      "outputs": [
        {
          "output_type": "stream",
          "name": "stdout",
          "text": [
            "\n",
            "Training Accuracy score: 0.9366075162812929\n",
            "Testing Accuracy score: 0.6073669116329091\n"
          ]
        }
      ]
    },
    {
      "cell_type": "code",
      "source": [],
      "metadata": {
        "id": "M2y-tNTrf7qQ"
      },
      "execution_count": null,
      "outputs": []
    },
    {
      "cell_type": "code",
      "source": [
        "from sklearn.ensemble import RandomForestClassifier\n",
        "\n",
        "rf = RandomForestClassifier(n_estimators=100, random_state=2)\n",
        "%time rf.fit(X_train, y_train)\n",
        "\n",
        "y_pred_train = rf.predict(X_train)\n",
        "y_pred_test = rf.predict(X_test)\n",
        "print(\"\\nTraining Accuracy score:\",accuracy_score(y_train, y_pred_train))\n",
        "print(\"Testing Accuracy score:\",accuracy_score(y_test, y_pred_test))"
      ],
      "metadata": {
        "colab": {
          "base_uri": "https://localhost:8080/"
        },
        "id": "2SRu0DhCRsoN",
        "outputId": "cd100e31-d56b-4692-9ea1-4d2fe4cc85f6"
      },
      "execution_count": null,
      "outputs": [
        {
          "output_type": "stream",
          "name": "stdout",
          "text": [
            "CPU times: user 27min 12s, sys: 2.54 s, total: 27min 15s\n",
            "Wall time: 27min 14s\n",
            "\n",
            "Training Accuracy score: 0.936715809284818\n",
            "Testing Accuracy score: 0.6707295214196093\n"
          ]
        }
      ]
    },
    {
      "cell_type": "code",
      "source": [
        "print(classification_report(y_test, y_pred_test, target_names=['MachineLearning', 'datascience','artificial']))"
      ],
      "metadata": {
        "colab": {
          "base_uri": "https://localhost:8080/"
        },
        "id": "FmF8NTHdTeqY",
        "outputId": "f924119c-8ff8-4a86-ca8c-bfce29813e15"
      },
      "execution_count": null,
      "outputs": [
        {
          "output_type": "stream",
          "name": "stdout",
          "text": [
            "                 precision    recall  f1-score   support\n",
            "\n",
            "MachineLearning       0.63      0.70      0.67      9531\n",
            "    datascience       0.36      0.05      0.08      2019\n",
            "     artificial       0.71      0.76      0.74     10766\n",
            "\n",
            "       accuracy                           0.67     22316\n",
            "      macro avg       0.57      0.50      0.49     22316\n",
            "   weighted avg       0.65      0.67      0.65     22316\n",
            "\n"
          ]
        }
      ]
    },
    {
      "cell_type": "code",
      "source": [],
      "metadata": {
        "id": "LPD_RDm_fKlX"
      },
      "execution_count": null,
      "outputs": []
    }
  ]
}