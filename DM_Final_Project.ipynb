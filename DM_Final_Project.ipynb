{
  "cells": [
    {
      "cell_type": "markdown",
      "metadata": {
        "id": "view-in-github",
        "colab_type": "text"
      },
      "source": [
        "<a href=\"https://colab.research.google.com/github/LakshmiMedapati96/DM-FinalProject/blob/main/DM_Final_Project.ipynb\" target=\"_parent\"><img src=\"https://colab.research.google.com/assets/colab-badge.svg\" alt=\"Open In Colab\"/></a>"
      ]
    },
    {
      "cell_type": "markdown",
      "metadata": {
        "id": "mev9EoT2t1C8"
      },
      "source": [
        "# Downloading the dataset"
      ]
    },
    {
      "cell_type": "code",
      "execution_count": null,
      "metadata": {
        "colab": {
          "base_uri": "https://localhost:8080/"
        },
        "id": "oKmntZBK4530",
        "outputId": "a6fd489f-c879-462a-aadf-a002b9a1db86"
      },
      "outputs": [
        {
          "name": "stdout",
          "output_type": "stream",
          "text": [
            "Drive already mounted at /content/drive; to attempt to forcibly remount, call drive.mount(\"/content/drive\", force_remount=True).\n"
          ]
        }
      ],
      "source": [
        "from google.colab import drive\n",
        "drive.mount('/content/drive')"
      ]
    },
    {
      "cell_type": "code",
      "execution_count": null,
      "metadata": {
        "colab": {
          "base_uri": "https://localhost:8080/"
        },
        "id": "rOAmAN52tDEy",
        "outputId": "c439ff0f-8c03-42a9-bbca-f4b91e5c8aff"
      },
      "outputs": [
        {
          "name": "stdout",
          "output_type": "stream",
          "text": [
            "Looking in indexes: https://pypi.org/simple, https://us-python.pkg.dev/colab-wheels/public/simple/\n",
            "Requirement already satisfied: kaggle in /usr/local/lib/python3.10/dist-packages (1.5.13)\n",
            "Requirement already satisfied: python-slugify in /usr/local/lib/python3.10/dist-packages (from kaggle) (8.0.1)\n",
            "Requirement already satisfied: certifi in /usr/local/lib/python3.10/dist-packages (from kaggle) (2022.12.7)\n",
            "Requirement already satisfied: python-dateutil in /usr/local/lib/python3.10/dist-packages (from kaggle) (2.8.2)\n",
            "Requirement already satisfied: urllib3 in /usr/local/lib/python3.10/dist-packages (from kaggle) (1.26.15)\n",
            "Requirement already satisfied: six>=1.10 in /usr/local/lib/python3.10/dist-packages (from kaggle) (1.16.0)\n",
            "Requirement already satisfied: requests in /usr/local/lib/python3.10/dist-packages (from kaggle) (2.27.1)\n",
            "Requirement already satisfied: tqdm in /usr/local/lib/python3.10/dist-packages (from kaggle) (4.65.0)\n",
            "Requirement already satisfied: text-unidecode>=1.3 in /usr/local/lib/python3.10/dist-packages (from python-slugify->kaggle) (1.3)\n",
            "Requirement already satisfied: charset-normalizer~=2.0.0 in /usr/local/lib/python3.10/dist-packages (from requests->kaggle) (2.0.12)\n",
            "Requirement already satisfied: idna<4,>=2.5 in /usr/local/lib/python3.10/dist-packages (from requests->kaggle) (3.4)\n"
          ]
        }
      ],
      "source": [
        "! pip install kaggle"
      ]
    },
    {
      "cell_type": "code",
      "execution_count": null,
      "metadata": {
        "colab": {
          "base_uri": "https://localhost:8080/"
        },
        "id": "qHnDZaa3tc19",
        "outputId": "43b36e88-6b83-470e-f4a2-abf35c7fd79f"
      },
      "outputs": [
        {
          "name": "stdout",
          "output_type": "stream",
          "text": [
            "mkdir: cannot create directory ‘/root/.kaggle’: File exists\n"
          ]
        }
      ],
      "source": [
        "! mkdir ~/.kaggle"
      ]
    },
    {
      "cell_type": "code",
      "execution_count": null,
      "metadata": {
        "id": "K9EFrJhdtgsm"
      },
      "outputs": [],
      "source": [
        "!cp /content/drive/MyDrive/kaggle.json ~/.kaggle/kaggle.json"
      ]
    },
    {
      "cell_type": "code",
      "execution_count": null,
      "metadata": {
        "colab": {
          "base_uri": "https://localhost:8080/"
        },
        "id": "i47h1qeMtmpi",
        "outputId": "94545a88-cd83-4f94-a9d8-311922e8384f"
      },
      "outputs": [
        {
          "name": "stdout",
          "output_type": "stream",
          "text": [
            "Downloading topredditcomments.zip to /content\n",
            " 77% 17.0M/22.1M [00:01<00:00, 25.1MB/s]\n",
            "100% 22.1M/22.1M [00:01<00:00, 20.1MB/s]\n"
          ]
        }
      ],
      "source": [
        "! kaggle datasets download tushar5harma/topredditcomments"
      ]
    },
    {
      "cell_type": "code",
      "execution_count": null,
      "metadata": {
        "colab": {
          "base_uri": "https://localhost:8080/"
        },
        "id": "MIBBoOLKtvDm",
        "outputId": "6f80cacd-7e68-40e2-ec91-a4a9ecf59bfe"
      },
      "outputs": [
        {
          "name": "stdout",
          "output_type": "stream",
          "text": [
            "Archive:  topredditcomments.zip\n",
            "  inflating: Top_Posts.csv           \n",
            "  inflating: Top_Posts_Comments.csv  \n"
          ]
        }
      ],
      "source": [
        "! unzip topredditcomments.zip"
      ]
    },
    {
      "cell_type": "markdown",
      "metadata": {
        "id": "5__FdaDPt8fY"
      },
      "source": [
        "# The Coding begins..."
      ]
    },
    {
      "cell_type": "markdown",
      "metadata": {
        "id": "VRiN_E-F6VEO"
      },
      "source": [
        "# Importing Libraries, Loading and Merging the data files"
      ]
    },
    {
      "cell_type": "code",
      "execution_count": null,
      "metadata": {
        "id": "D_ftixZkE00f"
      },
      "outputs": [],
      "source": [
        "import pandas as pd\n",
        "\n",
        "from nltk.corpus import stopwords\n",
        "from nltk.stem import WordNetLemmatizer\n",
        "\n",
        "import string\n",
        "import re\n",
        "\n",
        "from sklearn.model_selection import train_test_split\n",
        "\n",
        "from sklearn.feature_extraction.text import CountVectorizer\n",
        "\n",
        "from sklearn.tree import DecisionTreeClassifier\n",
        "from sklearn.ensemble import RandomForestClassifier\n",
        "from sklearn.neighbors import KNeighborsClassifier\n",
        "\n",
        "from sklearn.model_selection import GridSearchCV\n",
        "\n",
        "from sklearn import metrics\n",
        "from sklearn.metrics import classification_report\n",
        "from sklearn.metrics import accuracy_score\n"
      ]
    },
    {
      "cell_type": "code",
      "execution_count": null,
      "metadata": {
        "colab": {
          "base_uri": "https://localhost:8080/"
        },
        "id": "BuYZKaPGoOci",
        "outputId": "2275c82d-9c27-4a6f-8fd9-2eb1e3ea143b"
      },
      "outputs": [
        {
          "name": "stderr",
          "output_type": "stream",
          "text": [
            "[nltk_data] Downloading package stopwords to /root/nltk_data...\n",
            "[nltk_data]   Package stopwords is already up-to-date!\n",
            "[nltk_data] Downloading package wordnet to /root/nltk_data...\n",
            "[nltk_data]   Package wordnet is already up-to-date!\n"
          ]
        },
        {
          "data": {
            "text/plain": [
              "True"
            ]
          },
          "execution_count": 66,
          "metadata": {},
          "output_type": "execute_result"
        }
      ],
      "source": [
        "import nltk\n",
        "nltk.download('stopwords')\n",
        "nltk.download('wordnet')"
      ]
    },
    {
      "cell_type": "code",
      "execution_count": null,
      "metadata": {
        "colab": {
          "base_uri": "https://localhost:8080/"
        },
        "id": "LOU3nNECHlmc",
        "outputId": "624bd4db-7d49-44e9-8675-95ae653ac838"
      },
      "outputs": [
        {
          "name": "stdout",
          "output_type": "stream",
          "text": [
            "posts (2987, 10)\n",
            "comments (223174, 2)\n"
          ]
        }
      ],
      "source": [
        "# Load the dataset\n",
        "posts = pd.read_csv(\"Top_Posts.csv\")\n",
        "comments = pd.read_csv(\"Top_Posts_Comments.csv\")\n",
        "\n",
        "print(\"posts\", posts.shape)\n",
        "print(\"comments\", comments.shape)"
      ]
    },
    {
      "cell_type": "code",
      "execution_count": null,
      "metadata": {
        "colab": {
          "base_uri": "https://localhost:8080/"
        },
        "id": "Q4Z19_jQIgXZ",
        "outputId": "65f7602e-66e5-4d0b-c381-d6e0939be662"
      },
      "outputs": [
        {
          "data": {
            "text/html": [
              "\n",
              "  <div id=\"df-65b41085-ab59-436a-84b8-cad039708440\">\n",
              "    <div class=\"colab-df-container\">\n",
              "      <div>\n",
              "<style scoped>\n",
              "    .dataframe tbody tr th:only-of-type {\n",
              "        vertical-align: middle;\n",
              "    }\n",
              "\n",
              "    .dataframe tbody tr th {\n",
              "        vertical-align: top;\n",
              "    }\n",
              "\n",
              "    .dataframe thead th {\n",
              "        text-align: right;\n",
              "    }\n",
              "</style>\n",
              "<table border=\"1\" class=\"dataframe\">\n",
              "  <thead>\n",
              "    <tr style=\"text-align: right;\">\n",
              "      <th></th>\n",
              "      <th>post_id</th>\n",
              "      <th>post_title</th>\n",
              "      <th>subreddit</th>\n",
              "      <th>post_url</th>\n",
              "      <th>flair_text</th>\n",
              "      <th>score</th>\n",
              "      <th>comments</th>\n",
              "      <th>upvote_ratio</th>\n",
              "      <th>date-time</th>\n",
              "      <th>year</th>\n",
              "    </tr>\n",
              "  </thead>\n",
              "  <tbody>\n",
              "    <tr>\n",
              "      <th>0</th>\n",
              "      <td>gh1dj9</td>\n",
              "      <td>[Project] From books to presentations in 10s w...</td>\n",
              "      <td>MachineLearning</td>\n",
              "      <td>https://v.redd.it/v492uoheuxx41</td>\n",
              "      <td>Project</td>\n",
              "      <td>7798</td>\n",
              "      <td>186</td>\n",
              "      <td>0.99</td>\n",
              "      <td>2020-05-10 13:19:54</td>\n",
              "      <td>2020</td>\n",
              "    </tr>\n",
              "    <tr>\n",
              "      <th>1</th>\n",
              "      <td>kuc6tz</td>\n",
              "      <td>[D] A Demo from 1993 of 32-year-old Yann LeCun...</td>\n",
              "      <td>MachineLearning</td>\n",
              "      <td>https://v.redd.it/25nxi9ojfha61</td>\n",
              "      <td>Discussion</td>\n",
              "      <td>5851</td>\n",
              "      <td>133</td>\n",
              "      <td>0.98</td>\n",
              "      <td>2021-01-10 10:30:36</td>\n",
              "      <td>2021</td>\n",
              "    </tr>\n",
              "    <tr>\n",
              "      <th>2</th>\n",
              "      <td>g7nfvb</td>\n",
              "      <td>[R] First Order Motion Model applied to animat...</td>\n",
              "      <td>MachineLearning</td>\n",
              "      <td>https://v.redd.it/rlmmjm1q5wu41</td>\n",
              "      <td>Research</td>\n",
              "      <td>4761</td>\n",
              "      <td>111</td>\n",
              "      <td>0.97</td>\n",
              "      <td>2020-04-25 04:27:23</td>\n",
              "      <td>2020</td>\n",
              "    </tr>\n",
              "    <tr>\n",
              "      <th>3</th>\n",
              "      <td>lui92h</td>\n",
              "      <td>[N] AI can turn old photos into moving Images ...</td>\n",
              "      <td>MachineLearning</td>\n",
              "      <td>https://v.redd.it/ikd5gjlbi8k61</td>\n",
              "      <td>News</td>\n",
              "      <td>4688</td>\n",
              "      <td>230</td>\n",
              "      <td>0.97</td>\n",
              "      <td>2021-02-28 15:12:28</td>\n",
              "      <td>2021</td>\n",
              "    </tr>\n",
              "    <tr>\n",
              "      <th>4</th>\n",
              "      <td>ohxnts</td>\n",
              "      <td>[D] This AI reveals how much time politicians ...</td>\n",
              "      <td>MachineLearning</td>\n",
              "      <td>https://i.redd.it/34sgziebfia71.jpg</td>\n",
              "      <td>Discussion</td>\n",
              "      <td>4568</td>\n",
              "      <td>228</td>\n",
              "      <td>0.96</td>\n",
              "      <td>2021-07-11 04:18:59</td>\n",
              "      <td>2021</td>\n",
              "    </tr>\n",
              "  </tbody>\n",
              "</table>\n",
              "</div>\n",
              "      <button class=\"colab-df-convert\" onclick=\"convertToInteractive('df-65b41085-ab59-436a-84b8-cad039708440')\"\n",
              "              title=\"Convert this dataframe to an interactive table.\"\n",
              "              style=\"display:none;\">\n",
              "        \n",
              "  <svg xmlns=\"http://www.w3.org/2000/svg\" height=\"24px\"viewBox=\"0 0 24 24\"\n",
              "       width=\"24px\">\n",
              "    <path d=\"M0 0h24v24H0V0z\" fill=\"none\"/>\n",
              "    <path d=\"M18.56 5.44l.94 2.06.94-2.06 2.06-.94-2.06-.94-.94-2.06-.94 2.06-2.06.94zm-11 1L8.5 8.5l.94-2.06 2.06-.94-2.06-.94L8.5 2.5l-.94 2.06-2.06.94zm10 10l.94 2.06.94-2.06 2.06-.94-2.06-.94-.94-2.06-.94 2.06-2.06.94z\"/><path d=\"M17.41 7.96l-1.37-1.37c-.4-.4-.92-.59-1.43-.59-.52 0-1.04.2-1.43.59L10.3 9.45l-7.72 7.72c-.78.78-.78 2.05 0 2.83L4 21.41c.39.39.9.59 1.41.59.51 0 1.02-.2 1.41-.59l7.78-7.78 2.81-2.81c.8-.78.8-2.07 0-2.86zM5.41 20L4 18.59l7.72-7.72 1.47 1.35L5.41 20z\"/>\n",
              "  </svg>\n",
              "      </button>\n",
              "      \n",
              "  <style>\n",
              "    .colab-df-container {\n",
              "      display:flex;\n",
              "      flex-wrap:wrap;\n",
              "      gap: 12px;\n",
              "    }\n",
              "\n",
              "    .colab-df-convert {\n",
              "      background-color: #E8F0FE;\n",
              "      border: none;\n",
              "      border-radius: 50%;\n",
              "      cursor: pointer;\n",
              "      display: none;\n",
              "      fill: #1967D2;\n",
              "      height: 32px;\n",
              "      padding: 0 0 0 0;\n",
              "      width: 32px;\n",
              "    }\n",
              "\n",
              "    .colab-df-convert:hover {\n",
              "      background-color: #E2EBFA;\n",
              "      box-shadow: 0px 1px 2px rgba(60, 64, 67, 0.3), 0px 1px 3px 1px rgba(60, 64, 67, 0.15);\n",
              "      fill: #174EA6;\n",
              "    }\n",
              "\n",
              "    [theme=dark] .colab-df-convert {\n",
              "      background-color: #3B4455;\n",
              "      fill: #D2E3FC;\n",
              "    }\n",
              "\n",
              "    [theme=dark] .colab-df-convert:hover {\n",
              "      background-color: #434B5C;\n",
              "      box-shadow: 0px 1px 3px 1px rgba(0, 0, 0, 0.15);\n",
              "      filter: drop-shadow(0px 1px 2px rgba(0, 0, 0, 0.3));\n",
              "      fill: #FFFFFF;\n",
              "    }\n",
              "  </style>\n",
              "\n",
              "      <script>\n",
              "        const buttonEl =\n",
              "          document.querySelector('#df-65b41085-ab59-436a-84b8-cad039708440 button.colab-df-convert');\n",
              "        buttonEl.style.display =\n",
              "          google.colab.kernel.accessAllowed ? 'block' : 'none';\n",
              "\n",
              "        async function convertToInteractive(key) {\n",
              "          const element = document.querySelector('#df-65b41085-ab59-436a-84b8-cad039708440');\n",
              "          const dataTable =\n",
              "            await google.colab.kernel.invokeFunction('convertToInteractive',\n",
              "                                                     [key], {});\n",
              "          if (!dataTable) return;\n",
              "\n",
              "          const docLinkHtml = 'Like what you see? Visit the ' +\n",
              "            '<a target=\"_blank\" href=https://colab.research.google.com/notebooks/data_table.ipynb>data table notebook</a>'\n",
              "            + ' to learn more about interactive tables.';\n",
              "          element.innerHTML = '';\n",
              "          dataTable['output_type'] = 'display_data';\n",
              "          await google.colab.output.renderOutput(dataTable, element);\n",
              "          const docLink = document.createElement('div');\n",
              "          docLink.innerHTML = docLinkHtml;\n",
              "          element.appendChild(docLink);\n",
              "        }\n",
              "      </script>\n",
              "    </div>\n",
              "  </div>\n",
              "  "
            ],
            "text/plain": [
              "  post_id                                         post_title        subreddit  \\\n",
              "0  gh1dj9  [Project] From books to presentations in 10s w...  MachineLearning   \n",
              "1  kuc6tz  [D] A Demo from 1993 of 32-year-old Yann LeCun...  MachineLearning   \n",
              "2  g7nfvb  [R] First Order Motion Model applied to animat...  MachineLearning   \n",
              "3  lui92h  [N] AI can turn old photos into moving Images ...  MachineLearning   \n",
              "4  ohxnts  [D] This AI reveals how much time politicians ...  MachineLearning   \n",
              "\n",
              "                              post_url  flair_text  score  comments  \\\n",
              "0      https://v.redd.it/v492uoheuxx41     Project   7798       186   \n",
              "1      https://v.redd.it/25nxi9ojfha61  Discussion   5851       133   \n",
              "2      https://v.redd.it/rlmmjm1q5wu41    Research   4761       111   \n",
              "3      https://v.redd.it/ikd5gjlbi8k61        News   4688       230   \n",
              "4  https://i.redd.it/34sgziebfia71.jpg  Discussion   4568       228   \n",
              "\n",
              "   upvote_ratio            date-time  year  \n",
              "0          0.99  2020-05-10 13:19:54  2020  \n",
              "1          0.98  2021-01-10 10:30:36  2021  \n",
              "2          0.97  2020-04-25 04:27:23  2020  \n",
              "3          0.97  2021-02-28 15:12:28  2021  \n",
              "4          0.96  2021-07-11 04:18:59  2021  "
            ]
          },
          "execution_count": 68,
          "metadata": {},
          "output_type": "execute_result"
        }
      ],
      "source": [
        "posts.head()"
      ]
    },
    {
      "cell_type": "code",
      "execution_count": null,
      "metadata": {
        "colab": {
          "base_uri": "https://localhost:8080/"
        },
        "id": "CJJtt3S0Iz5V",
        "outputId": "81c2a4d5-c6cc-4f11-d109-4917b63d3747"
      },
      "outputs": [
        {
          "data": {
            "text/html": [
              "\n",
              "  <div id=\"df-681071d5-3c1f-4fcf-8c9f-73d090e42615\">\n",
              "    <div class=\"colab-df-container\">\n",
              "      <div>\n",
              "<style scoped>\n",
              "    .dataframe tbody tr th:only-of-type {\n",
              "        vertical-align: middle;\n",
              "    }\n",
              "\n",
              "    .dataframe tbody tr th {\n",
              "        vertical-align: top;\n",
              "    }\n",
              "\n",
              "    .dataframe thead th {\n",
              "        text-align: right;\n",
              "    }\n",
              "</style>\n",
              "<table border=\"1\" class=\"dataframe\">\n",
              "  <thead>\n",
              "    <tr style=\"text-align: right;\">\n",
              "      <th></th>\n",
              "      <th>post_id</th>\n",
              "      <th>comment</th>\n",
              "    </tr>\n",
              "  </thead>\n",
              "  <tbody>\n",
              "    <tr>\n",
              "      <th>0</th>\n",
              "      <td>gh1dj9</td>\n",
              "      <td>Twitter thread: [https://twitter.com/cyrildiag...</td>\n",
              "    </tr>\n",
              "    <tr>\n",
              "      <th>1</th>\n",
              "      <td>gh1dj9</td>\n",
              "      <td>The future 🤯</td>\n",
              "    </tr>\n",
              "    <tr>\n",
              "      <th>2</th>\n",
              "      <td>gh1dj9</td>\n",
              "      <td>Simple yet very useful. Thank you for sharing ...</td>\n",
              "    </tr>\n",
              "    <tr>\n",
              "      <th>3</th>\n",
              "      <td>gh1dj9</td>\n",
              "      <td>Almost guaranteed, Apple will copy your idea i...</td>\n",
              "    </tr>\n",
              "    <tr>\n",
              "      <th>4</th>\n",
              "      <td>gh1dj9</td>\n",
              "      <td>Ohh the nightmare of making this into a stable...</td>\n",
              "    </tr>\n",
              "  </tbody>\n",
              "</table>\n",
              "</div>\n",
              "      <button class=\"colab-df-convert\" onclick=\"convertToInteractive('df-681071d5-3c1f-4fcf-8c9f-73d090e42615')\"\n",
              "              title=\"Convert this dataframe to an interactive table.\"\n",
              "              style=\"display:none;\">\n",
              "        \n",
              "  <svg xmlns=\"http://www.w3.org/2000/svg\" height=\"24px\"viewBox=\"0 0 24 24\"\n",
              "       width=\"24px\">\n",
              "    <path d=\"M0 0h24v24H0V0z\" fill=\"none\"/>\n",
              "    <path d=\"M18.56 5.44l.94 2.06.94-2.06 2.06-.94-2.06-.94-.94-2.06-.94 2.06-2.06.94zm-11 1L8.5 8.5l.94-2.06 2.06-.94-2.06-.94L8.5 2.5l-.94 2.06-2.06.94zm10 10l.94 2.06.94-2.06 2.06-.94-2.06-.94-.94-2.06-.94 2.06-2.06.94z\"/><path d=\"M17.41 7.96l-1.37-1.37c-.4-.4-.92-.59-1.43-.59-.52 0-1.04.2-1.43.59L10.3 9.45l-7.72 7.72c-.78.78-.78 2.05 0 2.83L4 21.41c.39.39.9.59 1.41.59.51 0 1.02-.2 1.41-.59l7.78-7.78 2.81-2.81c.8-.78.8-2.07 0-2.86zM5.41 20L4 18.59l7.72-7.72 1.47 1.35L5.41 20z\"/>\n",
              "  </svg>\n",
              "      </button>\n",
              "      \n",
              "  <style>\n",
              "    .colab-df-container {\n",
              "      display:flex;\n",
              "      flex-wrap:wrap;\n",
              "      gap: 12px;\n",
              "    }\n",
              "\n",
              "    .colab-df-convert {\n",
              "      background-color: #E8F0FE;\n",
              "      border: none;\n",
              "      border-radius: 50%;\n",
              "      cursor: pointer;\n",
              "      display: none;\n",
              "      fill: #1967D2;\n",
              "      height: 32px;\n",
              "      padding: 0 0 0 0;\n",
              "      width: 32px;\n",
              "    }\n",
              "\n",
              "    .colab-df-convert:hover {\n",
              "      background-color: #E2EBFA;\n",
              "      box-shadow: 0px 1px 2px rgba(60, 64, 67, 0.3), 0px 1px 3px 1px rgba(60, 64, 67, 0.15);\n",
              "      fill: #174EA6;\n",
              "    }\n",
              "\n",
              "    [theme=dark] .colab-df-convert {\n",
              "      background-color: #3B4455;\n",
              "      fill: #D2E3FC;\n",
              "    }\n",
              "\n",
              "    [theme=dark] .colab-df-convert:hover {\n",
              "      background-color: #434B5C;\n",
              "      box-shadow: 0px 1px 3px 1px rgba(0, 0, 0, 0.15);\n",
              "      filter: drop-shadow(0px 1px 2px rgba(0, 0, 0, 0.3));\n",
              "      fill: #FFFFFF;\n",
              "    }\n",
              "  </style>\n",
              "\n",
              "      <script>\n",
              "        const buttonEl =\n",
              "          document.querySelector('#df-681071d5-3c1f-4fcf-8c9f-73d090e42615 button.colab-df-convert');\n",
              "        buttonEl.style.display =\n",
              "          google.colab.kernel.accessAllowed ? 'block' : 'none';\n",
              "\n",
              "        async function convertToInteractive(key) {\n",
              "          const element = document.querySelector('#df-681071d5-3c1f-4fcf-8c9f-73d090e42615');\n",
              "          const dataTable =\n",
              "            await google.colab.kernel.invokeFunction('convertToInteractive',\n",
              "                                                     [key], {});\n",
              "          if (!dataTable) return;\n",
              "\n",
              "          const docLinkHtml = 'Like what you see? Visit the ' +\n",
              "            '<a target=\"_blank\" href=https://colab.research.google.com/notebooks/data_table.ipynb>data table notebook</a>'\n",
              "            + ' to learn more about interactive tables.';\n",
              "          element.innerHTML = '';\n",
              "          dataTable['output_type'] = 'display_data';\n",
              "          await google.colab.output.renderOutput(dataTable, element);\n",
              "          const docLink = document.createElement('div');\n",
              "          docLink.innerHTML = docLinkHtml;\n",
              "          element.appendChild(docLink);\n",
              "        }\n",
              "      </script>\n",
              "    </div>\n",
              "  </div>\n",
              "  "
            ],
            "text/plain": [
              "  post_id                                            comment\n",
              "0  gh1dj9  Twitter thread: [https://twitter.com/cyrildiag...\n",
              "1  gh1dj9                                       The future 🤯\n",
              "2  gh1dj9  Simple yet very useful. Thank you for sharing ...\n",
              "3  gh1dj9  Almost guaranteed, Apple will copy your idea i...\n",
              "4  gh1dj9  Ohh the nightmare of making this into a stable..."
            ]
          },
          "execution_count": 69,
          "metadata": {},
          "output_type": "execute_result"
        }
      ],
      "source": [
        "comments.head()"
      ]
    },
    {
      "cell_type": "code",
      "execution_count": null,
      "metadata": {
        "colab": {
          "base_uri": "https://localhost:8080/"
        },
        "id": "xu55sPraIoiW",
        "outputId": "bb092d2f-4753-4c76-a324-9a39d284b556"
      },
      "outputs": [
        {
          "data": {
            "text/plain": [
              "artificial         999\n",
              "MachineLearning    998\n",
              "datascience        990\n",
              "Name: subreddit, dtype: int64"
            ]
          },
          "execution_count": 70,
          "metadata": {},
          "output_type": "execute_result"
        }
      ],
      "source": [
        "posts.subreddit.value_counts()"
      ]
    },
    {
      "cell_type": "code",
      "execution_count": null,
      "metadata": {
        "colab": {
          "base_uri": "https://localhost:8080/"
        },
        "id": "cbvylUB6IAd9",
        "outputId": "66f2c1cb-c523-4eab-be41-b0d9899d5e37"
      },
      "outputs": [
        {
          "data": {
            "text/html": [
              "\n",
              "  <div id=\"df-18c32728-6e03-4a39-b8bf-eb291f02e981\">\n",
              "    <div class=\"colab-df-container\">\n",
              "      <div>\n",
              "<style scoped>\n",
              "    .dataframe tbody tr th:only-of-type {\n",
              "        vertical-align: middle;\n",
              "    }\n",
              "\n",
              "    .dataframe tbody tr th {\n",
              "        vertical-align: top;\n",
              "    }\n",
              "\n",
              "    .dataframe thead th {\n",
              "        text-align: right;\n",
              "    }\n",
              "</style>\n",
              "<table border=\"1\" class=\"dataframe\">\n",
              "  <thead>\n",
              "    <tr style=\"text-align: right;\">\n",
              "      <th></th>\n",
              "      <th>post_id</th>\n",
              "      <th>post_title</th>\n",
              "      <th>subreddit</th>\n",
              "      <th>post_url</th>\n",
              "      <th>flair_text</th>\n",
              "      <th>score</th>\n",
              "      <th>comments</th>\n",
              "      <th>upvote_ratio</th>\n",
              "      <th>date-time</th>\n",
              "      <th>year</th>\n",
              "      <th>comment</th>\n",
              "    </tr>\n",
              "  </thead>\n",
              "  <tbody>\n",
              "    <tr>\n",
              "      <th>0</th>\n",
              "      <td>gh1dj9</td>\n",
              "      <td>[Project] From books to presentations in 10s w...</td>\n",
              "      <td>MachineLearning</td>\n",
              "      <td>https://v.redd.it/v492uoheuxx41</td>\n",
              "      <td>Project</td>\n",
              "      <td>7798</td>\n",
              "      <td>186</td>\n",
              "      <td>0.99</td>\n",
              "      <td>2020-05-10 13:19:54</td>\n",
              "      <td>2020</td>\n",
              "      <td>Twitter thread: [https://twitter.com/cyrildiag...</td>\n",
              "    </tr>\n",
              "    <tr>\n",
              "      <th>1</th>\n",
              "      <td>gh1dj9</td>\n",
              "      <td>[Project] From books to presentations in 10s w...</td>\n",
              "      <td>MachineLearning</td>\n",
              "      <td>https://v.redd.it/v492uoheuxx41</td>\n",
              "      <td>Project</td>\n",
              "      <td>7798</td>\n",
              "      <td>186</td>\n",
              "      <td>0.99</td>\n",
              "      <td>2020-05-10 13:19:54</td>\n",
              "      <td>2020</td>\n",
              "      <td>The future 🤯</td>\n",
              "    </tr>\n",
              "    <tr>\n",
              "      <th>2</th>\n",
              "      <td>gh1dj9</td>\n",
              "      <td>[Project] From books to presentations in 10s w...</td>\n",
              "      <td>MachineLearning</td>\n",
              "      <td>https://v.redd.it/v492uoheuxx41</td>\n",
              "      <td>Project</td>\n",
              "      <td>7798</td>\n",
              "      <td>186</td>\n",
              "      <td>0.99</td>\n",
              "      <td>2020-05-10 13:19:54</td>\n",
              "      <td>2020</td>\n",
              "      <td>Simple yet very useful. Thank you for sharing ...</td>\n",
              "    </tr>\n",
              "    <tr>\n",
              "      <th>3</th>\n",
              "      <td>gh1dj9</td>\n",
              "      <td>[Project] From books to presentations in 10s w...</td>\n",
              "      <td>MachineLearning</td>\n",
              "      <td>https://v.redd.it/v492uoheuxx41</td>\n",
              "      <td>Project</td>\n",
              "      <td>7798</td>\n",
              "      <td>186</td>\n",
              "      <td>0.99</td>\n",
              "      <td>2020-05-10 13:19:54</td>\n",
              "      <td>2020</td>\n",
              "      <td>Almost guaranteed, Apple will copy your idea i...</td>\n",
              "    </tr>\n",
              "    <tr>\n",
              "      <th>4</th>\n",
              "      <td>gh1dj9</td>\n",
              "      <td>[Project] From books to presentations in 10s w...</td>\n",
              "      <td>MachineLearning</td>\n",
              "      <td>https://v.redd.it/v492uoheuxx41</td>\n",
              "      <td>Project</td>\n",
              "      <td>7798</td>\n",
              "      <td>186</td>\n",
              "      <td>0.99</td>\n",
              "      <td>2020-05-10 13:19:54</td>\n",
              "      <td>2020</td>\n",
              "      <td>Ohh the nightmare of making this into a stable...</td>\n",
              "    </tr>\n",
              "    <tr>\n",
              "      <th>...</th>\n",
              "      <td>...</td>\n",
              "      <td>...</td>\n",
              "      <td>...</td>\n",
              "      <td>...</td>\n",
              "      <td>...</td>\n",
              "      <td>...</td>\n",
              "      <td>...</td>\n",
              "      <td>...</td>\n",
              "      <td>...</td>\n",
              "      <td>...</td>\n",
              "      <td>...</td>\n",
              "    </tr>\n",
              "    <tr>\n",
              "      <th>223163</th>\n",
              "      <td>efk5n3</td>\n",
              "      <td>Tesla's Neural Net can now identify red and gr...</td>\n",
              "      <td>artificial</td>\n",
              "      <td>https://www.teslarati.com/tesla-holiday-update...</td>\n",
              "      <td>NaN</td>\n",
              "      <td>80</td>\n",
              "      <td>10</td>\n",
              "      <td>0.89</td>\n",
              "      <td>2019-12-25 18:50:50</td>\n",
              "      <td>2019</td>\n",
              "      <td>LiDAR is mot powerful sensor for the auto driv...</td>\n",
              "    </tr>\n",
              "    <tr>\n",
              "      <th>223164</th>\n",
              "      <td>efk5n3</td>\n",
              "      <td>Tesla's Neural Net can now identify red and gr...</td>\n",
              "      <td>artificial</td>\n",
              "      <td>https://www.teslarati.com/tesla-holiday-update...</td>\n",
              "      <td>NaN</td>\n",
              "      <td>80</td>\n",
              "      <td>10</td>\n",
              "      <td>0.89</td>\n",
              "      <td>2019-12-25 18:50:50</td>\n",
              "      <td>2019</td>\n",
              "      <td>So it can now idenrify traffic lights? Musk pr...</td>\n",
              "    </tr>\n",
              "    <tr>\n",
              "      <th>223165</th>\n",
              "      <td>efk5n3</td>\n",
              "      <td>Tesla's Neural Net can now identify red and gr...</td>\n",
              "      <td>artificial</td>\n",
              "      <td>https://www.teslarati.com/tesla-holiday-update...</td>\n",
              "      <td>NaN</td>\n",
              "      <td>80</td>\n",
              "      <td>10</td>\n",
              "      <td>0.89</td>\n",
              "      <td>2019-12-25 18:50:50</td>\n",
              "      <td>2019</td>\n",
              "      <td>Hydranet bro!</td>\n",
              "    </tr>\n",
              "    <tr>\n",
              "      <th>223166</th>\n",
              "      <td>efk5n3</td>\n",
              "      <td>Tesla's Neural Net can now identify red and gr...</td>\n",
              "      <td>artificial</td>\n",
              "      <td>https://www.teslarati.com/tesla-holiday-update...</td>\n",
              "      <td>NaN</td>\n",
              "      <td>80</td>\n",
              "      <td>10</td>\n",
              "      <td>0.89</td>\n",
              "      <td>2019-12-25 18:50:50</td>\n",
              "      <td>2019</td>\n",
              "      <td>It even shows flashing yellow turn arrows.</td>\n",
              "    </tr>\n",
              "    <tr>\n",
              "      <th>223167</th>\n",
              "      <td>efk5n3</td>\n",
              "      <td>Tesla's Neural Net can now identify red and gr...</td>\n",
              "      <td>artificial</td>\n",
              "      <td>https://www.teslarati.com/tesla-holiday-update...</td>\n",
              "      <td>NaN</td>\n",
              "      <td>80</td>\n",
              "      <td>10</td>\n",
              "      <td>0.89</td>\n",
              "      <td>2019-12-25 18:50:50</td>\n",
              "      <td>2019</td>\n",
              "      <td>Ya just saw karpathy talk on hydra and pytorch.</td>\n",
              "    </tr>\n",
              "  </tbody>\n",
              "</table>\n",
              "<p>223168 rows × 11 columns</p>\n",
              "</div>\n",
              "      <button class=\"colab-df-convert\" onclick=\"convertToInteractive('df-18c32728-6e03-4a39-b8bf-eb291f02e981')\"\n",
              "              title=\"Convert this dataframe to an interactive table.\"\n",
              "              style=\"display:none;\">\n",
              "        \n",
              "  <svg xmlns=\"http://www.w3.org/2000/svg\" height=\"24px\"viewBox=\"0 0 24 24\"\n",
              "       width=\"24px\">\n",
              "    <path d=\"M0 0h24v24H0V0z\" fill=\"none\"/>\n",
              "    <path d=\"M18.56 5.44l.94 2.06.94-2.06 2.06-.94-2.06-.94-.94-2.06-.94 2.06-2.06.94zm-11 1L8.5 8.5l.94-2.06 2.06-.94-2.06-.94L8.5 2.5l-.94 2.06-2.06.94zm10 10l.94 2.06.94-2.06 2.06-.94-2.06-.94-.94-2.06-.94 2.06-2.06.94z\"/><path d=\"M17.41 7.96l-1.37-1.37c-.4-.4-.92-.59-1.43-.59-.52 0-1.04.2-1.43.59L10.3 9.45l-7.72 7.72c-.78.78-.78 2.05 0 2.83L4 21.41c.39.39.9.59 1.41.59.51 0 1.02-.2 1.41-.59l7.78-7.78 2.81-2.81c.8-.78.8-2.07 0-2.86zM5.41 20L4 18.59l7.72-7.72 1.47 1.35L5.41 20z\"/>\n",
              "  </svg>\n",
              "      </button>\n",
              "      \n",
              "  <style>\n",
              "    .colab-df-container {\n",
              "      display:flex;\n",
              "      flex-wrap:wrap;\n",
              "      gap: 12px;\n",
              "    }\n",
              "\n",
              "    .colab-df-convert {\n",
              "      background-color: #E8F0FE;\n",
              "      border: none;\n",
              "      border-radius: 50%;\n",
              "      cursor: pointer;\n",
              "      display: none;\n",
              "      fill: #1967D2;\n",
              "      height: 32px;\n",
              "      padding: 0 0 0 0;\n",
              "      width: 32px;\n",
              "    }\n",
              "\n",
              "    .colab-df-convert:hover {\n",
              "      background-color: #E2EBFA;\n",
              "      box-shadow: 0px 1px 2px rgba(60, 64, 67, 0.3), 0px 1px 3px 1px rgba(60, 64, 67, 0.15);\n",
              "      fill: #174EA6;\n",
              "    }\n",
              "\n",
              "    [theme=dark] .colab-df-convert {\n",
              "      background-color: #3B4455;\n",
              "      fill: #D2E3FC;\n",
              "    }\n",
              "\n",
              "    [theme=dark] .colab-df-convert:hover {\n",
              "      background-color: #434B5C;\n",
              "      box-shadow: 0px 1px 3px 1px rgba(0, 0, 0, 0.15);\n",
              "      filter: drop-shadow(0px 1px 2px rgba(0, 0, 0, 0.3));\n",
              "      fill: #FFFFFF;\n",
              "    }\n",
              "  </style>\n",
              "\n",
              "      <script>\n",
              "        const buttonEl =\n",
              "          document.querySelector('#df-18c32728-6e03-4a39-b8bf-eb291f02e981 button.colab-df-convert');\n",
              "        buttonEl.style.display =\n",
              "          google.colab.kernel.accessAllowed ? 'block' : 'none';\n",
              "\n",
              "        async function convertToInteractive(key) {\n",
              "          const element = document.querySelector('#df-18c32728-6e03-4a39-b8bf-eb291f02e981');\n",
              "          const dataTable =\n",
              "            await google.colab.kernel.invokeFunction('convertToInteractive',\n",
              "                                                     [key], {});\n",
              "          if (!dataTable) return;\n",
              "\n",
              "          const docLinkHtml = 'Like what you see? Visit the ' +\n",
              "            '<a target=\"_blank\" href=https://colab.research.google.com/notebooks/data_table.ipynb>data table notebook</a>'\n",
              "            + ' to learn more about interactive tables.';\n",
              "          element.innerHTML = '';\n",
              "          dataTable['output_type'] = 'display_data';\n",
              "          await google.colab.output.renderOutput(dataTable, element);\n",
              "          const docLink = document.createElement('div');\n",
              "          docLink.innerHTML = docLinkHtml;\n",
              "          element.appendChild(docLink);\n",
              "        }\n",
              "      </script>\n",
              "    </div>\n",
              "  </div>\n",
              "  "
            ],
            "text/plain": [
              "       post_id                                         post_title  \\\n",
              "0       gh1dj9  [Project] From books to presentations in 10s w...   \n",
              "1       gh1dj9  [Project] From books to presentations in 10s w...   \n",
              "2       gh1dj9  [Project] From books to presentations in 10s w...   \n",
              "3       gh1dj9  [Project] From books to presentations in 10s w...   \n",
              "4       gh1dj9  [Project] From books to presentations in 10s w...   \n",
              "...        ...                                                ...   \n",
              "223163  efk5n3  Tesla's Neural Net can now identify red and gr...   \n",
              "223164  efk5n3  Tesla's Neural Net can now identify red and gr...   \n",
              "223165  efk5n3  Tesla's Neural Net can now identify red and gr...   \n",
              "223166  efk5n3  Tesla's Neural Net can now identify red and gr...   \n",
              "223167  efk5n3  Tesla's Neural Net can now identify red and gr...   \n",
              "\n",
              "              subreddit                                           post_url  \\\n",
              "0       MachineLearning                    https://v.redd.it/v492uoheuxx41   \n",
              "1       MachineLearning                    https://v.redd.it/v492uoheuxx41   \n",
              "2       MachineLearning                    https://v.redd.it/v492uoheuxx41   \n",
              "3       MachineLearning                    https://v.redd.it/v492uoheuxx41   \n",
              "4       MachineLearning                    https://v.redd.it/v492uoheuxx41   \n",
              "...                 ...                                                ...   \n",
              "223163       artificial  https://www.teslarati.com/tesla-holiday-update...   \n",
              "223164       artificial  https://www.teslarati.com/tesla-holiday-update...   \n",
              "223165       artificial  https://www.teslarati.com/tesla-holiday-update...   \n",
              "223166       artificial  https://www.teslarati.com/tesla-holiday-update...   \n",
              "223167       artificial  https://www.teslarati.com/tesla-holiday-update...   \n",
              "\n",
              "       flair_text  score  comments  upvote_ratio            date-time  year  \\\n",
              "0         Project   7798       186          0.99  2020-05-10 13:19:54  2020   \n",
              "1         Project   7798       186          0.99  2020-05-10 13:19:54  2020   \n",
              "2         Project   7798       186          0.99  2020-05-10 13:19:54  2020   \n",
              "3         Project   7798       186          0.99  2020-05-10 13:19:54  2020   \n",
              "4         Project   7798       186          0.99  2020-05-10 13:19:54  2020   \n",
              "...           ...    ...       ...           ...                  ...   ...   \n",
              "223163        NaN     80        10          0.89  2019-12-25 18:50:50  2019   \n",
              "223164        NaN     80        10          0.89  2019-12-25 18:50:50  2019   \n",
              "223165        NaN     80        10          0.89  2019-12-25 18:50:50  2019   \n",
              "223166        NaN     80        10          0.89  2019-12-25 18:50:50  2019   \n",
              "223167        NaN     80        10          0.89  2019-12-25 18:50:50  2019   \n",
              "\n",
              "                                                  comment  \n",
              "0       Twitter thread: [https://twitter.com/cyrildiag...  \n",
              "1                                            The future 🤯  \n",
              "2       Simple yet very useful. Thank you for sharing ...  \n",
              "3       Almost guaranteed, Apple will copy your idea i...  \n",
              "4       Ohh the nightmare of making this into a stable...  \n",
              "...                                                   ...  \n",
              "223163  LiDAR is mot powerful sensor for the auto driv...  \n",
              "223164  So it can now idenrify traffic lights? Musk pr...  \n",
              "223165                                      Hydranet bro!  \n",
              "223166         It even shows flashing yellow turn arrows.  \n",
              "223167    Ya just saw karpathy talk on hydra and pytorch.  \n",
              "\n",
              "[223168 rows x 11 columns]"
            ]
          },
          "execution_count": 71,
          "metadata": {},
          "output_type": "execute_result"
        }
      ],
      "source": [
        "# The code in this cell was written by me by referring to Reference [1].\n",
        "\n",
        "# Merging the 2 input files by using the common column \"post_id\" in both the files\n",
        "merged_data = pd.merge(posts, comments, on=\"post_id\", how=\"inner\")\n",
        "\n",
        "merged_data"
      ]
    },
    {
      "cell_type": "code",
      "execution_count": null,
      "metadata": {
        "colab": {
          "base_uri": "https://localhost:8080/"
        },
        "id": "68wZzM0NI9wC",
        "outputId": "a763e9a5-ca60-4d98-8381-b859d521cfb6"
      },
      "outputs": [
        {
          "data": {
            "text/html": [
              "\n",
              "  <div id=\"df-0b9bd84a-bb37-4794-9fab-85f149d7b29d\">\n",
              "    <div class=\"colab-df-container\">\n",
              "      <div>\n",
              "<style scoped>\n",
              "    .dataframe tbody tr th:only-of-type {\n",
              "        vertical-align: middle;\n",
              "    }\n",
              "\n",
              "    .dataframe tbody tr th {\n",
              "        vertical-align: top;\n",
              "    }\n",
              "\n",
              "    .dataframe thead th {\n",
              "        text-align: right;\n",
              "    }\n",
              "</style>\n",
              "<table border=\"1\" class=\"dataframe\">\n",
              "  <thead>\n",
              "    <tr style=\"text-align: right;\">\n",
              "      <th></th>\n",
              "      <th>comment</th>\n",
              "      <th>subreddit</th>\n",
              "    </tr>\n",
              "  </thead>\n",
              "  <tbody>\n",
              "    <tr>\n",
              "      <th>0</th>\n",
              "      <td>Twitter thread: [https://twitter.com/cyrildiag...</td>\n",
              "      <td>MachineLearning</td>\n",
              "    </tr>\n",
              "    <tr>\n",
              "      <th>1</th>\n",
              "      <td>The future 🤯</td>\n",
              "      <td>MachineLearning</td>\n",
              "    </tr>\n",
              "    <tr>\n",
              "      <th>2</th>\n",
              "      <td>Simple yet very useful. Thank you for sharing ...</td>\n",
              "      <td>MachineLearning</td>\n",
              "    </tr>\n",
              "    <tr>\n",
              "      <th>3</th>\n",
              "      <td>Almost guaranteed, Apple will copy your idea i...</td>\n",
              "      <td>MachineLearning</td>\n",
              "    </tr>\n",
              "    <tr>\n",
              "      <th>4</th>\n",
              "      <td>Ohh the nightmare of making this into a stable...</td>\n",
              "      <td>MachineLearning</td>\n",
              "    </tr>\n",
              "  </tbody>\n",
              "</table>\n",
              "</div>\n",
              "      <button class=\"colab-df-convert\" onclick=\"convertToInteractive('df-0b9bd84a-bb37-4794-9fab-85f149d7b29d')\"\n",
              "              title=\"Convert this dataframe to an interactive table.\"\n",
              "              style=\"display:none;\">\n",
              "        \n",
              "  <svg xmlns=\"http://www.w3.org/2000/svg\" height=\"24px\"viewBox=\"0 0 24 24\"\n",
              "       width=\"24px\">\n",
              "    <path d=\"M0 0h24v24H0V0z\" fill=\"none\"/>\n",
              "    <path d=\"M18.56 5.44l.94 2.06.94-2.06 2.06-.94-2.06-.94-.94-2.06-.94 2.06-2.06.94zm-11 1L8.5 8.5l.94-2.06 2.06-.94-2.06-.94L8.5 2.5l-.94 2.06-2.06.94zm10 10l.94 2.06.94-2.06 2.06-.94-2.06-.94-.94-2.06-.94 2.06-2.06.94z\"/><path d=\"M17.41 7.96l-1.37-1.37c-.4-.4-.92-.59-1.43-.59-.52 0-1.04.2-1.43.59L10.3 9.45l-7.72 7.72c-.78.78-.78 2.05 0 2.83L4 21.41c.39.39.9.59 1.41.59.51 0 1.02-.2 1.41-.59l7.78-7.78 2.81-2.81c.8-.78.8-2.07 0-2.86zM5.41 20L4 18.59l7.72-7.72 1.47 1.35L5.41 20z\"/>\n",
              "  </svg>\n",
              "      </button>\n",
              "      \n",
              "  <style>\n",
              "    .colab-df-container {\n",
              "      display:flex;\n",
              "      flex-wrap:wrap;\n",
              "      gap: 12px;\n",
              "    }\n",
              "\n",
              "    .colab-df-convert {\n",
              "      background-color: #E8F0FE;\n",
              "      border: none;\n",
              "      border-radius: 50%;\n",
              "      cursor: pointer;\n",
              "      display: none;\n",
              "      fill: #1967D2;\n",
              "      height: 32px;\n",
              "      padding: 0 0 0 0;\n",
              "      width: 32px;\n",
              "    }\n",
              "\n",
              "    .colab-df-convert:hover {\n",
              "      background-color: #E2EBFA;\n",
              "      box-shadow: 0px 1px 2px rgba(60, 64, 67, 0.3), 0px 1px 3px 1px rgba(60, 64, 67, 0.15);\n",
              "      fill: #174EA6;\n",
              "    }\n",
              "\n",
              "    [theme=dark] .colab-df-convert {\n",
              "      background-color: #3B4455;\n",
              "      fill: #D2E3FC;\n",
              "    }\n",
              "\n",
              "    [theme=dark] .colab-df-convert:hover {\n",
              "      background-color: #434B5C;\n",
              "      box-shadow: 0px 1px 3px 1px rgba(0, 0, 0, 0.15);\n",
              "      filter: drop-shadow(0px 1px 2px rgba(0, 0, 0, 0.3));\n",
              "      fill: #FFFFFF;\n",
              "    }\n",
              "  </style>\n",
              "\n",
              "      <script>\n",
              "        const buttonEl =\n",
              "          document.querySelector('#df-0b9bd84a-bb37-4794-9fab-85f149d7b29d button.colab-df-convert');\n",
              "        buttonEl.style.display =\n",
              "          google.colab.kernel.accessAllowed ? 'block' : 'none';\n",
              "\n",
              "        async function convertToInteractive(key) {\n",
              "          const element = document.querySelector('#df-0b9bd84a-bb37-4794-9fab-85f149d7b29d');\n",
              "          const dataTable =\n",
              "            await google.colab.kernel.invokeFunction('convertToInteractive',\n",
              "                                                     [key], {});\n",
              "          if (!dataTable) return;\n",
              "\n",
              "          const docLinkHtml = 'Like what you see? Visit the ' +\n",
              "            '<a target=\"_blank\" href=https://colab.research.google.com/notebooks/data_table.ipynb>data table notebook</a>'\n",
              "            + ' to learn more about interactive tables.';\n",
              "          element.innerHTML = '';\n",
              "          dataTable['output_type'] = 'display_data';\n",
              "          await google.colab.output.renderOutput(dataTable, element);\n",
              "          const docLink = document.createElement('div');\n",
              "          docLink.innerHTML = docLinkHtml;\n",
              "          element.appendChild(docLink);\n",
              "        }\n",
              "      </script>\n",
              "    </div>\n",
              "  </div>\n",
              "  "
            ],
            "text/plain": [
              "                                             comment        subreddit\n",
              "0  Twitter thread: [https://twitter.com/cyrildiag...  MachineLearning\n",
              "1                                       The future 🤯  MachineLearning\n",
              "2  Simple yet very useful. Thank you for sharing ...  MachineLearning\n",
              "3  Almost guaranteed, Apple will copy your idea i...  MachineLearning\n",
              "4  Ohh the nightmare of making this into a stable...  MachineLearning"
            ]
          },
          "execution_count": 72,
          "metadata": {},
          "output_type": "execute_result"
        }
      ],
      "source": [
        "# Storing the necessary columns only\n",
        "merged_data = merged_data[[\"comment\", \"subreddit\"]]\n",
        "\n",
        "merged_data.head()"
      ]
    },
    {
      "cell_type": "markdown",
      "metadata": {
        "id": "n-6U95jp4esj"
      },
      "source": [
        "# Data Preprocessing"
      ]
    },
    {
      "cell_type": "code",
      "execution_count": null,
      "metadata": {
        "colab": {
          "base_uri": "https://localhost:8080/"
        },
        "id": "_72JpYzpHrfK",
        "outputId": "339c2289-f717-4333-e4bf-a2509bcfdd60"
      },
      "outputs": [
        {
          "name": "stdout",
          "output_type": "stream",
          "text": [
            "(223168, 2)\n"
          ]
        },
        {
          "data": {
            "text/plain": [
              "comment      9\n",
              "subreddit    0\n",
              "dtype: int64"
            ]
          },
          "execution_count": 43,
          "metadata": {},
          "output_type": "execute_result"
        }
      ],
      "source": [
        "print(merged_data.shape)\n",
        "\n",
        "# checking for missing values\n",
        "merged_data.isnull().sum()\n"
      ]
    },
    {
      "cell_type": "code",
      "execution_count": null,
      "metadata": {
        "colab": {
          "base_uri": "https://localhost:8080/"
        },
        "id": "eEzpmOmio_WT",
        "outputId": "1cc9f6da-c4f0-456a-b1a1-431d25817917"
      },
      "outputs": [
        {
          "name": "stdout",
          "output_type": "stream",
          "text": [
            "(223159, 2)\n"
          ]
        },
        {
          "name": "stderr",
          "output_type": "stream",
          "text": [
            "<ipython-input-44-2b16886c28c2>:2: SettingWithCopyWarning: \n",
            "A value is trying to be set on a copy of a slice from a DataFrame\n",
            "\n",
            "See the caveats in the documentation: https://pandas.pydata.org/pandas-docs/stable/user_guide/indexing.html#returning-a-view-versus-a-copy\n",
            "  merged_data.dropna(inplace=True)\n"
          ]
        }
      ],
      "source": [
        "# Dropping the missing values\n",
        "merged_data.dropna(inplace=True)\n",
        "\n",
        "print(merged_data.shape)"
      ]
    },
    {
      "cell_type": "code",
      "execution_count": null,
      "metadata": {
        "id": "2OaSuyipJRhY"
      },
      "outputs": [],
      "source": [
        "# The below code is taken from Reference [2].\n",
        "# Defining a function to remove URLs\n",
        "def remove_urls(doc):\n",
        "    url_pattern = re.compile(r'https?://\\S+|www\\.\\S+')\n",
        "    return url_pattern.sub(r'', doc)\n",
        "\n",
        "\n",
        "# The below code is taken from Reference [3].\n",
        "# Defining a function to remove emoji\n",
        "def remove_emoji(doc):\n",
        "    emoji_pattern = re.compile(\"[\"\n",
        "        u\"\\U0001F600-\\U0001F64F\"          # emoticons\n",
        "        u\"\\U0001F300-\\U0001F5FF\"          # symbols & pictographs\n",
        "        u\"\\U0001F680-\\U0001F6FF\"          # transport & map symbols\n",
        "        u\"\\U0001F1E0-\\U0001F1FF\"          # flags (iOS)\n",
        "        u\"\\U00002500-\\U00002BEF\"          # chinese char\n",
        "        u\"\\U00002702-\\U000027B0\"\n",
        "        u\"\\U00002702-\\U000027B0\"\n",
        "        u\"\\U000024C2-\\U0001F251\"\n",
        "        u\"\\U0001f926-\\U0001f937\"\n",
        "        u\"\\U00010000-\\U0010ffff\"\n",
        "        u\"\\u2640-\\u2642\" \n",
        "        u\"\\u2600-\\u2B55\"\n",
        "        u\"\\u200d\"\n",
        "        u\"\\u23cf\"\n",
        "        u\"\\u23e9\"\n",
        "        u\"\\u231a\"\n",
        "        u\"\\ufe0f\"                         # dingbats\n",
        "        u\"\\u3030\"\n",
        "        \"]+\", re.UNICODE)\n",
        "    return emoji_pattern.sub(r'', doc)\n",
        "\n",
        "\n",
        "# Written by me by referring to Reference [4]. \n",
        "stop_words = stopwords.words('english')           # Accessing stopwords from nltk library\n",
        "\n",
        "# Written by me by referring to Reference [5].\n",
        "lemmatizer = WordNetLemmatizer()                  # Lemmatization\n",
        "\n",
        "\n",
        "# Below lines of code are my own code\n",
        "# Defining a function to clean the data\n",
        "def clean(doc):\n",
        "    doc = str(doc)                                              # converting to string \n",
        "    doc = doc.lower().strip()                                   # converting to lower case and stripping the whitespaces\n",
        "    doc = \"\".join([char for char in doc if char not in string.punctuation and not char.isdigit()])          # removing punctuations and digits\n",
        "\n",
        "  # Written by me by referring to Reference [4].\n",
        "    doc = \" \".join([token for token in doc.split() if token not in stop_words])                 # splitting the doc into tokens and removing stopwords\n",
        "  \n",
        "  # Written by me by referring to Reference [5].\n",
        "    doc = \"\".join([lemmatizer.lemmatize(word) for word in doc])                                 # lemmatizing the doc\n",
        "    return doc"
      ]
    },
    {
      "cell_type": "code",
      "execution_count": null,
      "metadata": {
        "colab": {
          "base_uri": "https://localhost:8080/"
        },
        "id": "CcHTtnTEHGLQ",
        "outputId": "129f201c-2f10-45a9-e5bd-91756f262a5c"
      },
      "outputs": [
        {
          "name": "stderr",
          "output_type": "stream",
          "text": [
            "<ipython-input-46-af3d8f411adc>:2: SettingWithCopyWarning: \n",
            "A value is trying to be set on a copy of a slice from a DataFrame.\n",
            "Try using .loc[row_indexer,col_indexer] = value instead\n",
            "\n",
            "See the caveats in the documentation: https://pandas.pydata.org/pandas-docs/stable/user_guide/indexing.html#returning-a-view-versus-a-copy\n",
            "  merged_data[\"comment\"] = merged_data[\"comment\"].apply(remove_urls)\n",
            "<ipython-input-46-af3d8f411adc>:3: SettingWithCopyWarning: \n",
            "A value is trying to be set on a copy of a slice from a DataFrame.\n",
            "Try using .loc[row_indexer,col_indexer] = value instead\n",
            "\n",
            "See the caveats in the documentation: https://pandas.pydata.org/pandas-docs/stable/user_guide/indexing.html#returning-a-view-versus-a-copy\n",
            "  merged_data[\"comment\"] = merged_data[\"comment\"].apply(remove_emoji)\n",
            "<ipython-input-46-af3d8f411adc>:4: SettingWithCopyWarning: \n",
            "A value is trying to be set on a copy of a slice from a DataFrame.\n",
            "Try using .loc[row_indexer,col_indexer] = value instead\n",
            "\n",
            "See the caveats in the documentation: https://pandas.pydata.org/pandas-docs/stable/user_guide/indexing.html#returning-a-view-versus-a-copy\n",
            "  merged_data[\"comment\"] = merged_data[\"comment\"].apply(clean)\n"
          ]
        }
      ],
      "source": [
        "# Cleaning the dataset\n",
        "merged_data[\"comment\"] = merged_data[\"comment\"].apply(remove_urls)  \n",
        "merged_data[\"comment\"] = merged_data[\"comment\"].apply(remove_emoji)          \n",
        "merged_data[\"comment\"] = merged_data[\"comment\"].apply(clean)          "
      ]
    },
    {
      "cell_type": "code",
      "execution_count": null,
      "metadata": {
        "colab": {
          "base_uri": "https://localhost:8080/"
        },
        "id": "IeqmOxhfZ8vX",
        "outputId": "810063fd-3479-4f18-a218-77557729b85f"
      },
      "outputs": [
        {
          "data": {
            "text/html": [
              "\n",
              "  <div id=\"df-2aef448b-19f4-42d6-ac24-df11f969c8dd\">\n",
              "    <div class=\"colab-df-container\">\n",
              "      <div>\n",
              "<style scoped>\n",
              "    .dataframe tbody tr th:only-of-type {\n",
              "        vertical-align: middle;\n",
              "    }\n",
              "\n",
              "    .dataframe tbody tr th {\n",
              "        vertical-align: top;\n",
              "    }\n",
              "\n",
              "    .dataframe thead th {\n",
              "        text-align: right;\n",
              "    }\n",
              "</style>\n",
              "<table border=\"1\" class=\"dataframe\">\n",
              "  <thead>\n",
              "    <tr style=\"text-align: right;\">\n",
              "      <th></th>\n",
              "      <th>comment</th>\n",
              "      <th>subreddit</th>\n",
              "    </tr>\n",
              "  </thead>\n",
              "  <tbody>\n",
              "    <tr>\n",
              "      <th>0</th>\n",
              "      <td>twitter thread code background removal done un...</td>\n",
              "      <td>MachineLearning</td>\n",
              "    </tr>\n",
              "    <tr>\n",
              "      <th>1</th>\n",
              "      <td>future</td>\n",
              "      <td>MachineLearning</td>\n",
              "    </tr>\n",
              "    <tr>\n",
              "      <th>2</th>\n",
              "      <td>simple yet useful thank sharing code</td>\n",
              "      <td>MachineLearning</td>\n",
              "    </tr>\n",
              "    <tr>\n",
              "      <th>3</th>\n",
              "      <td>almost guaranteed apple copy idea</td>\n",
              "      <td>MachineLearning</td>\n",
              "    </tr>\n",
              "    <tr>\n",
              "      <th>4</th>\n",
              "      <td>ohh nightmare making stable product enough dri...</td>\n",
              "      <td>MachineLearning</td>\n",
              "    </tr>\n",
              "  </tbody>\n",
              "</table>\n",
              "</div>\n",
              "      <button class=\"colab-df-convert\" onclick=\"convertToInteractive('df-2aef448b-19f4-42d6-ac24-df11f969c8dd')\"\n",
              "              title=\"Convert this dataframe to an interactive table.\"\n",
              "              style=\"display:none;\">\n",
              "        \n",
              "  <svg xmlns=\"http://www.w3.org/2000/svg\" height=\"24px\"viewBox=\"0 0 24 24\"\n",
              "       width=\"24px\">\n",
              "    <path d=\"M0 0h24v24H0V0z\" fill=\"none\"/>\n",
              "    <path d=\"M18.56 5.44l.94 2.06.94-2.06 2.06-.94-2.06-.94-.94-2.06-.94 2.06-2.06.94zm-11 1L8.5 8.5l.94-2.06 2.06-.94-2.06-.94L8.5 2.5l-.94 2.06-2.06.94zm10 10l.94 2.06.94-2.06 2.06-.94-2.06-.94-.94-2.06-.94 2.06-2.06.94z\"/><path d=\"M17.41 7.96l-1.37-1.37c-.4-.4-.92-.59-1.43-.59-.52 0-1.04.2-1.43.59L10.3 9.45l-7.72 7.72c-.78.78-.78 2.05 0 2.83L4 21.41c.39.39.9.59 1.41.59.51 0 1.02-.2 1.41-.59l7.78-7.78 2.81-2.81c.8-.78.8-2.07 0-2.86zM5.41 20L4 18.59l7.72-7.72 1.47 1.35L5.41 20z\"/>\n",
              "  </svg>\n",
              "      </button>\n",
              "      \n",
              "  <style>\n",
              "    .colab-df-container {\n",
              "      display:flex;\n",
              "      flex-wrap:wrap;\n",
              "      gap: 12px;\n",
              "    }\n",
              "\n",
              "    .colab-df-convert {\n",
              "      background-color: #E8F0FE;\n",
              "      border: none;\n",
              "      border-radius: 50%;\n",
              "      cursor: pointer;\n",
              "      display: none;\n",
              "      fill: #1967D2;\n",
              "      height: 32px;\n",
              "      padding: 0 0 0 0;\n",
              "      width: 32px;\n",
              "    }\n",
              "\n",
              "    .colab-df-convert:hover {\n",
              "      background-color: #E2EBFA;\n",
              "      box-shadow: 0px 1px 2px rgba(60, 64, 67, 0.3), 0px 1px 3px 1px rgba(60, 64, 67, 0.15);\n",
              "      fill: #174EA6;\n",
              "    }\n",
              "\n",
              "    [theme=dark] .colab-df-convert {\n",
              "      background-color: #3B4455;\n",
              "      fill: #D2E3FC;\n",
              "    }\n",
              "\n",
              "    [theme=dark] .colab-df-convert:hover {\n",
              "      background-color: #434B5C;\n",
              "      box-shadow: 0px 1px 3px 1px rgba(0, 0, 0, 0.15);\n",
              "      filter: drop-shadow(0px 1px 2px rgba(0, 0, 0, 0.3));\n",
              "      fill: #FFFFFF;\n",
              "    }\n",
              "  </style>\n",
              "\n",
              "      <script>\n",
              "        const buttonEl =\n",
              "          document.querySelector('#df-2aef448b-19f4-42d6-ac24-df11f969c8dd button.colab-df-convert');\n",
              "        buttonEl.style.display =\n",
              "          google.colab.kernel.accessAllowed ? 'block' : 'none';\n",
              "\n",
              "        async function convertToInteractive(key) {\n",
              "          const element = document.querySelector('#df-2aef448b-19f4-42d6-ac24-df11f969c8dd');\n",
              "          const dataTable =\n",
              "            await google.colab.kernel.invokeFunction('convertToInteractive',\n",
              "                                                     [key], {});\n",
              "          if (!dataTable) return;\n",
              "\n",
              "          const docLinkHtml = 'Like what you see? Visit the ' +\n",
              "            '<a target=\"_blank\" href=https://colab.research.google.com/notebooks/data_table.ipynb>data table notebook</a>'\n",
              "            + ' to learn more about interactive tables.';\n",
              "          element.innerHTML = '';\n",
              "          dataTable['output_type'] = 'display_data';\n",
              "          await google.colab.output.renderOutput(dataTable, element);\n",
              "          const docLink = document.createElement('div');\n",
              "          docLink.innerHTML = docLinkHtml;\n",
              "          element.appendChild(docLink);\n",
              "        }\n",
              "      </script>\n",
              "    </div>\n",
              "  </div>\n",
              "  "
            ],
            "text/plain": [
              "                                             comment        subreddit\n",
              "0  twitter thread code background removal done un...  MachineLearning\n",
              "1                                             future  MachineLearning\n",
              "2               simple yet useful thank sharing code  MachineLearning\n",
              "3                  almost guaranteed apple copy idea  MachineLearning\n",
              "4  ohh nightmare making stable product enough dri...  MachineLearning"
            ]
          },
          "execution_count": 47,
          "metadata": {},
          "output_type": "execute_result"
        }
      ],
      "source": [
        "merged_data.head()"
      ]
    },
    {
      "cell_type": "code",
      "execution_count": null,
      "metadata": {
        "colab": {
          "base_uri": "https://localhost:8080/"
        },
        "id": "ZpYAFV8DfAZf",
        "outputId": "a482a40c-00d9-4881-f28d-ee14bd108ee9"
      },
      "outputs": [
        {
          "name": "stdout",
          "output_type": "stream",
          "text": [
            "(133895,) (133895,)\n",
            "(44632,) (44632,)\n",
            "(44632,) (44632,)\n"
          ]
        }
      ],
      "source": [
        "# Splitting the dataset into Train, Validation and Test sets - 60:20:20 ratio\n",
        "X = merged_data['comment']\n",
        "y = merged_data['subreddit']\n",
        "\n",
        "# Split the data into training and remaining datasets\n",
        "X_train, X_rem, y_train, y_rem = train_test_split(X, y, train_size = 0.6)\n",
        "\n",
        "# Split the remaining dataset into validation and test datasets\n",
        "X_val, X_test, y_val, y_test = train_test_split(X_rem, y_rem, train_size = 0.5)\n",
        "\n",
        "\n",
        "print(X_train.shape, y_train.shape)\n",
        "print(X_val.shape, y_val.shape)\n",
        "print(X_test.shape, y_test.shape)"
      ]
    },
    {
      "cell_type": "code",
      "execution_count": null,
      "metadata": {
        "id": "jjRxhpNxlN4D"
      },
      "outputs": [],
      "source": [
        "# Written by me by referring to Reference [6].\n",
        "# Vectorize dataset \n",
        "vectorizer = CountVectorizer()\n",
        "X_train = vectorizer.fit_transform(X_train)\n",
        "X_val = vectorizer.transform(X_val)\n",
        "X_test = vectorizer.transform(X_test)"
      ]
    },
    {
      "cell_type": "markdown",
      "metadata": {
        "id": "ukmT11raXct_"
      },
      "source": [
        "# **Model 1 :** Decision Tree Classifier"
      ]
    },
    {
      "cell_type": "code",
      "execution_count": null,
      "metadata": {
        "colab": {
          "base_uri": "https://localhost:8080/"
        },
        "id": "NVnpcHefGk8s",
        "outputId": "64d5ed3a-18bc-4a15-9502-846c83391aee"
      },
      "outputs": [
        {
          "name": "stdout",
          "output_type": "stream",
          "text": [
            "Accuracy on validation set before hyperparameter tuning : 0.5266176734181753\n",
            "Accuracy on test set before hyperparameter tuning: 0.5218005018820577\n"
          ]
        }
      ],
      "source": [
        "# Written by me by referring to Reference [6].\n",
        "\n",
        "dtc = DecisionTreeClassifier(max_depth = 3)\n",
        "dtc = dtc.fit(X_train, y_train)\n",
        "\n",
        "y_pred_train = dtc.predict(X_train)\n",
        "y_pred_val = dtc.predict(X_val) \n",
        "y_pred_test = dtc.predict(X_test)\n",
        "\n",
        "accuracy_val_DT_BHT = accuracy_score(y_val, y_pred_val)\n",
        "accuracy_test_DT_BHT = accuracy_score(y_test, y_pred_test)\n",
        "print(\"Accuracy on validation set before hyperparameter tuning :\",accuracy_val_DT_BHT)\n",
        "print(\"Accuracy on test set before hyperparameter tuning:\",accuracy_test_DT_BHT)"
      ]
    },
    {
      "cell_type": "markdown",
      "metadata": {
        "id": "s2awaQATwPaF"
      },
      "source": [
        "Hyperparameter Tuning with GridSearchCV"
      ]
    },
    {
      "cell_type": "code",
      "execution_count": null,
      "metadata": {
        "colab": {
          "background_save": true
        },
        "id": "AkDMRt32wD1d",
        "outputId": "e3689af3-5f19-4fea-bd15-66c6f1eadf1b"
      },
      "outputs": [
        {
          "name": "stdout",
          "output_type": "stream",
          "text": [
            "Best hyperparameters: {'max_depth': 14, 'min_samples_split': 6}\n",
            "Accuracy on validation set after hyperparameter tuning :  0.5606067395590608\n",
            "Final accuracy on test set after hyperparameter tuning :  0.5577836529844058\n"
          ]
        }
      ],
      "source": [
        "# Written by me by referring to Reference [7] and [8].\n",
        "\n",
        "param_dict = {\n",
        "    \"max_depth\": range(13, 15),\n",
        "    \"min_samples_split\": [4, 5, 6]\n",
        "}\n",
        "\n",
        "grid_search_dt = GridSearchCV(dtc, param_dict, cv = 10)\n",
        "\n",
        "grid_search_dt.fit(X_train, y_train)\n",
        "print(\"Best hyperparameters:\", grid_search_dt.best_params_)\n",
        "\n",
        "\n",
        "accuracy_val_DT_AHT = grid_search_dt.best_estimator_.score(X_val, y_val)\n",
        "accuracy_test_DT_AHT = grid_search_dt.best_estimator_.score(X_test, y_test)\n",
        "print(\"Accuracy on validation set after hyperparameter tuning : \", accuracy_val_DT_AHT)\n",
        "print(\"Final accuracy on test set after hyperparameter tuning : \", accuracy_test_DT_AHT)"
      ]
    },
    {
      "cell_type": "code",
      "execution_count": null,
      "metadata": {
        "colab": {
          "background_save": true
        },
        "id": "JaEmOmwDQ9zu",
        "outputId": "5dde8144-e1c2-4270-ce09-c5718086785a"
      },
      "outputs": [
        {
          "ename": "TypeError",
          "evalue": "ignored",
          "output_type": "error",
          "traceback": [
            "\u001b[0;31m---------------------------------------------------------------------------\u001b[0m",
            "\u001b[0;31mTypeError\u001b[0m                                 Traceback (most recent call last)",
            "\u001b[0;32m<ipython-input-90-d280890c4303>\u001b[0m in \u001b[0;36m<cell line: 1>\u001b[0;34m()\u001b[0m\n\u001b[0;32m----> 1\u001b[0;31m \u001b[0mprediction\u001b[0m \u001b[0;34m=\u001b[0m \u001b[0mgrid_search_dt\u001b[0m\u001b[0;34m.\u001b[0m\u001b[0mbest_estimator_\u001b[0m\u001b[0;34m(\u001b[0m\u001b[0mX_test\u001b[0m\u001b[0;34m)\u001b[0m\u001b[0;34m\u001b[0m\u001b[0;34m\u001b[0m\u001b[0m\n\u001b[0m\u001b[1;32m      2\u001b[0m \u001b[0mprint\u001b[0m\u001b[0;34m(\u001b[0m\u001b[0mclassification_report\u001b[0m\u001b[0;34m(\u001b[0m\u001b[0my_test\u001b[0m\u001b[0;34m,\u001b[0m \u001b[0mprediction\u001b[0m\u001b[0;34m,\u001b[0m \u001b[0mtarget_names\u001b[0m\u001b[0;34m=\u001b[0m\u001b[0;34m[\u001b[0m\u001b[0;34m'MachineLearning'\u001b[0m\u001b[0;34m,\u001b[0m \u001b[0;34m'datascience'\u001b[0m\u001b[0;34m,\u001b[0m\u001b[0;34m'artificial'\u001b[0m\u001b[0;34m]\u001b[0m\u001b[0;34m)\u001b[0m\u001b[0;34m)\u001b[0m\u001b[0;34m\u001b[0m\u001b[0;34m\u001b[0m\u001b[0m\n",
            "\u001b[0;31mTypeError\u001b[0m: 'DecisionTreeClassifier' object is not callable"
          ]
        }
      ],
      "source": [
        "prediction = grid_search_dt.best_estimator_(X_test)\n",
        "print(classification_report(y_test, prediction, target_names=['MachineLearning', 'datascience','artificial']))"
      ]
    },
    {
      "cell_type": "markdown",
      "metadata": {
        "id": "n3-1IhArQq9-"
      },
      "source": [
        "# **Model 2 :** Random Forest Classifier"
      ]
    },
    {
      "cell_type": "code",
      "execution_count": null,
      "metadata": {
        "colab": {
          "base_uri": "https://localhost:8080/"
        },
        "id": "2SRu0DhCRsoN",
        "outputId": "22b15eac-8ccd-4d23-aa9a-24f2609a7748"
      },
      "outputs": [
        {
          "name": "stdout",
          "output_type": "stream",
          "text": [
            "Accuracy on validation set before hyperparameter tuning : 0.47761695644380714\n",
            "Accuracy on test set before hyperparameter tuning: 0.4838456712672522\n"
          ]
        }
      ],
      "source": [
        "# Written by me by referring to Reference [9].\n",
        "\n",
        "rfc = RandomForestClassifier(n_estimators = 110, max_depth = 2)\n",
        "rfc = rfc.fit(X_train, y_train)\n",
        "\n",
        "y_pred_train = rfc.predict(X_train)\n",
        "y_pred_val = rfc.predict(X_val) \n",
        "y_pred_test = rfc.predict(X_test)\n",
        "\n",
        "accuracy_val_RF_BHT = accuracy_score(y_val, y_pred_val)\n",
        "accuracy_test_RF_BHT = accuracy_score(y_test, y_pred_test)\n",
        "print(\"Accuracy on validation set before hyperparameter tuning :\",accuracy_val_RF_BHT)\n",
        "print(\"Accuracy on test set before hyperparameter tuning:\",accuracy_test_RF_BHT)"
      ]
    },
    {
      "cell_type": "markdown",
      "metadata": {
        "id": "JlOzDj5aMpI4"
      },
      "source": [
        "Hyperparameter Tuning with GridSearchCV"
      ]
    },
    {
      "cell_type": "code",
      "execution_count": null,
      "metadata": {
        "colab": {
          "background_save": true
        },
        "id": "TU1-HgfSHSNz",
        "outputId": "df51b8f4-3a4a-4f9a-849f-f5f57a6e3553"
      },
      "outputs": [
        {
          "name": "stdout",
          "output_type": "stream",
          "text": [
            "Best hyperparameters: {'max_depth': 14, 'n_estimators': 100}\n",
            "Accuracy on validation set after hyperparameter tuning :  0.5686951066499373\n",
            "Final accuracy on test set after hyperparameter tuning :  0.5721455457967378\n"
          ]
        }
      ],
      "source": [
        "param_dict = {\n",
        "    \"n_estimators\" : [25, 50, 100],\n",
        "    \"max_depth\": range(13, 15)  \n",
        "}\n",
        "\n",
        "grid_search_rf = GridSearchCV(rfc, param_dict, cv = 10)\n",
        "\n",
        "grid_search_rf.fit(X_train, y_train)\n",
        "print(\"Best hyperparameters:\", grid_search_rf.best_params_)\n",
        "\n",
        "\n",
        "accuracy_val_RF_AHT = grid_search_rf.best_estimator_.score(X_val, y_val)\n",
        "accuracy_test_RF_AHT = grid_search_rf.best_estimator_.score(X_test, y_test)\n",
        "print(\"Accuracy on validation set after hyperparameter tuning : \", accuracy_val_RF_AHT)\n",
        "print(\"Final accuracy on test set after hyperparameter tuning : \", accuracy_test_RF_AHT)"
      ]
    },
    {
      "cell_type": "markdown",
      "metadata": {
        "id": "vjAS2TBLM-BZ"
      },
      "source": [
        "# **Model 3 :** k Nearest Neighbours"
      ]
    },
    {
      "cell_type": "code",
      "execution_count": null,
      "metadata": {
        "colab": {
          "base_uri": "https://localhost:8080/"
        },
        "id": "oos5reizMw8z",
        "outputId": "10bdc3e4-bcfa-4d76-8b3a-bef2b26f606b"
      },
      "outputs": [
        {
          "name": "stdout",
          "output_type": "stream",
          "text": [
            "Accuracy on validation set before hyperparameter tuning : 0.5451469797454741\n",
            "Accuracy on test set before hyperparameter tuning: 0.5457295214196093\n"
          ]
        }
      ],
      "source": [
        "# Written by me by referring to Reference [10].\n",
        "\n",
        "knc = KNeighborsClassifier(n_neighbors = 3)\n",
        "knc = knc.fit(X_train, y_train)\n",
        "\n",
        "y_pred_train = knc.predict(X_train)\n",
        "y_pred_val = knc.predict(X_val) \n",
        "y_pred_test = knc.predict(X_test)\n",
        "\n",
        "accuracy_val_KNN_BHT = accuracy_score(y_val, y_pred_val)\n",
        "accuracy_test_KNN_BHT = accuracy_score(y_test, y_pred_test)\n",
        "print(\"Accuracy on validation set before hyperparameter tuning :\",accuracy_val_KNN_BHT)\n",
        "print(\"Accuracy on test set before hyperparameter tuning:\",accuracy_test_KNN_BHT)"
      ]
    },
    {
      "cell_type": "markdown",
      "metadata": {
        "id": "cLscuLeBNk6w"
      },
      "source": [
        "Hyperparameter Tuning with GridSearchCV"
      ]
    },
    {
      "cell_type": "code",
      "execution_count": null,
      "metadata": {
        "colab": {
          "base_uri": "https://localhost:8080/"
        },
        "id": "rCPHJkRDNidD",
        "outputId": "a9b853f6-28ee-49a4-a89a-b5382b985bbd"
      },
      "outputs": [
        {
          "name": "stdout",
          "output_type": "stream",
          "text": [
            "Best hyperparameters: {'n_neighbors': 11}\n",
            "Accuracy on validation set after hyperparameter tuning :  0.5544676465316365\n",
            "Final accuracy on test set after hyperparameter tuning :  0.5615029575192687\n"
          ]
        }
      ],
      "source": [
        "param_dict = {\n",
        "    \"n_neighbors\" : [5, 7, 11]  \n",
        "}\n",
        "\n",
        "grid_search_kn = GridSearchCV(knc, param_dict, cv = 10)\n",
        "\n",
        "grid_search_kn.fit(X_train, y_train)\n",
        "print(\"Best hyperparameters:\", grid_search_kn.best_params_)\n",
        "\n",
        "\n",
        "accuracy_val_KNN_AHT = grid_search_kn.best_estimator_.score(X_val, y_val)\n",
        "accuracy_test_KNN_AHT = grid_search_kn.best_estimator_.score(X_test, y_test)\n",
        "print(\"Accuracy on validation set after hyperparameter tuning : \", accuracy_val_KNN_AHT)\n",
        "print(\"Final accuracy on test set after hyperparameter tuning : \", accuracy_test_KNN_AHT)"
      ]
    },
    {
      "cell_type": "markdown",
      "metadata": {
        "id": "BEWkhjQOZaI2"
      },
      "source": [
        "# Unnecessary"
      ]
    },
    {
      "cell_type": "code",
      "execution_count": null,
      "metadata": {
        "id": "b1vdOyKCun9x"
      },
      "outputs": [],
      "source": [
        "# gnb = GaussianNB() \n",
        "# %time gnb.fit(X_train, y_train)\n",
        "\n",
        "# y_pred_train = gnb.predict(X_train)\n",
        "# y_pred_val = gnb.predict(X_val)\n",
        "# y_pred_test = gnb.predict(X_test)\n",
        "\n",
        "# print(\"\\nTraining Accuracy score:\",accuracy_score(y_train, y_pred_train))\n",
        "# print(\"Testing Accuracy score:\",accuracy_score(y_test, y_pred_test))\n",
        "# print(\"Validation Accuracy score:\",accuracy_score(y_val, y_pred_val))"
      ]
    },
    {
      "cell_type": "code",
      "execution_count": null,
      "metadata": {
        "id": "cbQ3yTClutOa"
      },
      "outputs": [],
      "source": [
        "# print(classification_report(y_test, y_pred_test, target_names=['MachineLearning', 'datascience','artificial']))"
      ]
    },
    {
      "cell_type": "markdown",
      "metadata": {
        "id": "ckD9FAdiGEAZ"
      },
      "source": [
        "# Using MultiNormial Naive Bayes"
      ]
    },
    {
      "cell_type": "code",
      "execution_count": null,
      "metadata": {
        "id": "qpyNGspAFP3l"
      },
      "outputs": [],
      "source": [
        "mnb = MultinomialNB() \n",
        "%time mnb.fit(vocab_list_trainset, y_train)\n",
        "\n",
        "y_pred_train = mnb.predict(vocab_list_trainset)\n",
        "y_pred_test = mnb.predict(X_test)\n",
        "print(\"\\nTraining Accuracy score:\",accuracy_score(y_train, y_pred_train))\n",
        "print(\"Testing Accuracy score:\",accuracy_score(y_test, y_pred_test))\n"
      ]
    },
    {
      "cell_type": "code",
      "execution_count": null,
      "metadata": {
        "id": "MRh__a6qGIJ2"
      },
      "outputs": [],
      "source": [
        "print(classification_report(y_test, y_pred_test, target_names=['MachineLearning', 'datascience','artificial']))"
      ]
    },
    {
      "cell_type": "code",
      "execution_count": null,
      "metadata": {
        "id": "LPD_RDm_fKlX"
      },
      "outputs": [],
      "source": []
    }
  ],
  "metadata": {
    "accelerator": "GPU",
    "colab": {
      "machine_shape": "hm",
      "provenance": [],
      "include_colab_link": true
    },
    "gpuClass": "premium",
    "kernelspec": {
      "display_name": "Python 3",
      "name": "python3"
    },
    "language_info": {
      "name": "python"
    }
  },
  "nbformat": 4,
  "nbformat_minor": 0
}